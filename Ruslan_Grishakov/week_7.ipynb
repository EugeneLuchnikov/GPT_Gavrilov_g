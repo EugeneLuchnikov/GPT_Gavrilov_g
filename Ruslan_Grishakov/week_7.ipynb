{
  "cells": [
    {
      "cell_type": "markdown",
      "metadata": {
        "id": "mCUrA9vZVmHG"
      },
      "source": [
        "[Герман Гаврилов](https://drive.google.com/drive/folders/17-r9k1eEGHcVXzGk87dFqfR6FlNfFAYL?usp=sharing) - моя рабочая папка."
      ]
    },
    {
      "cell_type": "markdown",
      "metadata": {
        "id": "rVDYF0C9YQcB"
      },
      "source": [
        "# 7 неделя"
      ]
    },
    {
      "cell_type": "code",
      "execution_count": null,
      "metadata": {
        "id": "9KuUYa49Vo8A"
      },
      "outputs": [],
      "source": [
        "!rm -r sample_data"
      ]
    },
    {
      "cell_type": "code",
      "execution_count": null,
      "metadata": {
        "colab": {
          "base_uri": "https://localhost:8080/"
        },
        "id": "IOx_s0fIVwbK",
        "outputId": "ad692f68-b37a-467e-a322-b11ec91a5f69"
      },
      "outputs": [
        {
          "output_type": "stream",
          "name": "stdout",
          "text": [
            "Mounted at /content/drive\n"
          ]
        }
      ],
      "source": [
        "# Подключаем google-диск\n",
        "from google.colab import drive\n",
        "drive.mount('/content/drive')\n",
        "my_drv_path = '/content/drive/MyDrive/'"
      ]
    },
    {
      "cell_type": "markdown",
      "source": [
        "## Библиотеки"
      ],
      "metadata": {
        "id": "Iki324RBw_iU"
      }
    },
    {
      "cell_type": "code",
      "source": [
        "!pip -q install cohere tiktoken==0.5.1 langchain==0.0.339 openai==1.3.4 faiss-cpu==1.7.4 gspread==3.4.2"
      ],
      "metadata": {
        "colab": {
          "base_uri": "https://localhost:8080/"
        },
        "id": "gyh3Yc36zjr7",
        "outputId": "fe37723a-cec6-4d53-b6b4-91483a452114"
      },
      "execution_count": 1,
      "outputs": [
        {
          "output_type": "stream",
          "name": "stdout",
          "text": [
            "\u001b[2K     \u001b[90m━━━━━━━━━━━━━━━━━━━━━━━━━━━━━━━━━━━━━━━━\u001b[0m \u001b[32m51.9/51.9 kB\u001b[0m \u001b[31m1.7 MB/s\u001b[0m eta \u001b[36m0:00:00\u001b[0m\n",
            "\u001b[2K     \u001b[90m━━━━━━━━━━━━━━━━━━━━━━━━━━━━━━━━━━━━━━━━\u001b[0m \u001b[32m2.0/2.0 MB\u001b[0m \u001b[31m14.6 MB/s\u001b[0m eta \u001b[36m0:00:00\u001b[0m\n",
            "\u001b[2K     \u001b[90m━━━━━━━━━━━━━━━━━━━━━━━━━━━━━━━━━━━━━━━━\u001b[0m \u001b[32m2.0/2.0 MB\u001b[0m \u001b[31m30.5 MB/s\u001b[0m eta \u001b[36m0:00:00\u001b[0m\n",
            "\u001b[2K     \u001b[90m━━━━━━━━━━━━━━━━━━━━━━━━━━━━━━━━━━━━━━━━\u001b[0m \u001b[32m220.5/220.5 kB\u001b[0m \u001b[31m23.2 MB/s\u001b[0m eta \u001b[36m0:00:00\u001b[0m\n",
            "\u001b[2K     \u001b[90m━━━━━━━━━━━━━━━━━━━━━━━━━━━━━━━━━━━━━━━━\u001b[0m \u001b[32m17.6/17.6 MB\u001b[0m \u001b[31m39.3 MB/s\u001b[0m eta \u001b[36m0:00:00\u001b[0m\n",
            "\u001b[2K     \u001b[90m━━━━━━━━━━━━━━━━━━━━━━━━━━━━━━━━━━━━━━━━\u001b[0m \u001b[32m49.3/49.3 kB\u001b[0m \u001b[31m5.6 MB/s\u001b[0m eta \u001b[36m0:00:00\u001b[0m\n",
            "\u001b[2K     \u001b[90m━━━━━━━━━━━━━━━━━━━━━━━━━━━━━━━━━━━━━━━━\u001b[0m \u001b[32m75.9/75.9 kB\u001b[0m \u001b[31m8.8 MB/s\u001b[0m eta \u001b[36m0:00:00\u001b[0m\n",
            "\u001b[2K     \u001b[90m━━━━━━━━━━━━━━━━━━━━━━━━━━━━━━━━━━━━━━━━\u001b[0m \u001b[32m3.1/3.1 MB\u001b[0m \u001b[31m65.5 MB/s\u001b[0m eta \u001b[36m0:00:00\u001b[0m\n",
            "\u001b[2K     \u001b[90m━━━━━━━━━━━━━━━━━━━━━━━━━━━━━━━━━━━━━━━━\u001b[0m \u001b[32m49.4/49.4 kB\u001b[0m \u001b[31m5.7 MB/s\u001b[0m eta \u001b[36m0:00:00\u001b[0m\n",
            "\u001b[2K     \u001b[90m━━━━━━━━━━━━━━━━━━━━━━━━━━━━━━━━━━━━━━━━\u001b[0m \u001b[32m76.9/76.9 kB\u001b[0m \u001b[31m6.3 MB/s\u001b[0m eta \u001b[36m0:00:00\u001b[0m\n",
            "\u001b[2K     \u001b[90m━━━━━━━━━━━━━━━━━━━━━━━━━━━━━━━━━━━━━━━━\u001b[0m \u001b[32m58.3/58.3 kB\u001b[0m \u001b[31m6.9 MB/s\u001b[0m eta \u001b[36m0:00:00\u001b[0m\n",
            "\u001b[?25h"
          ]
        }
      ]
    },
    {
      "cell_type": "code",
      "source": [
        "import os\n",
        "import re\n",
        "import timeit\n",
        "import openai\n",
        "import zipfile\n",
        "import getpass\n",
        "import requests\n",
        "import tiktoken\n",
        "\n",
        "from   openai  import OpenAI\n",
        "from   IPython import display\n",
        "\n",
        "from   langchain.vectorstores      import FAISS\n",
        "from   langchain.docstore.document import Document\n",
        "from   langchain.embeddings.openai import OpenAIEmbeddings\n",
        "from   langchain.text_splitter     import RecursiveCharacterTextSplitter\n",
        "\n",
        "import gspread                     # API для работы с Google таблицами\n",
        "from   google.colab import auth    # модуль для аутентификации\n",
        "from   google.auth  import default # модуль для работы с учётными данными\n",
        "\n",
        "from tqdm import tqdm"
      ],
      "metadata": {
        "id": "krMfszKi1NA6"
      },
      "execution_count": 2,
      "outputs": []
    },
    {
      "cell_type": "markdown",
      "source": [
        "## Функции и классы"
      ],
      "metadata": {
        "id": "C-vZQuEF4R93"
      }
    },
    {
      "cell_type": "markdown",
      "source": [
        "### Функция для ввода OpenAI API-ключа"
      ],
      "metadata": {
        "id": "lOmw-U6FweNp"
      }
    },
    {
      "cell_type": "code",
      "source": [
        "def get_key_ОpenAI():\n",
        "  openai.api_key = getpass.getpass('OpenAI API Key:')\n",
        "  os.environ['OPENAI_API_KEY'] = openai.api_key"
      ],
      "metadata": {
        "id": "75LhQ0Vr4v2t"
      },
      "execution_count": 3,
      "outputs": []
    },
    {
      "cell_type": "markdown",
      "source": [
        "### Chat functions"
      ],
      "metadata": {
        "id": "qnemPNyQZhfE"
      }
    },
    {
      "cell_type": "code",
      "source": [
        "def num_tokens_from_string(string: str) -> int:\n",
        "  \"\"\"Возвращает количество токенов в строке.\"\"\"\n",
        "\n",
        "  # Выбор кодировщика (`cl100k_base` используется для `gpt-4`, `gpt-3.5-turbo`, `text-embedding-ada-002`)\n",
        "  encoding = tiktoken.get_encoding('cl100k_base')\n",
        "\n",
        "  # Разбивка строки на токены и подсчёт из количества\n",
        "  num_tokens = len(encoding.encode(string))\n",
        "\n",
        "  return num_tokens\n",
        "#\n",
        "#\n",
        "def split_text(text, verbose=0):\n",
        "  \"\"\"Функция разбивает текст на чанки.\"\"\"\n",
        "\n",
        "  # Создаём экземпляр сплиттера\n",
        "  text_splitter = RecursiveCharacterTextSplitter(separators=[\"##_\", \"\\n\\n\", \"\\n\", \" \", \"\"],\n",
        "                                                 chunk_size=1024,\n",
        "                                                 length_function=lambda x: num_tokens_from_string(x))\n",
        "\n",
        "  # Получаем список чанков\n",
        "  source_chunks = []\n",
        "  for chunk in text_splitter.split_text(text):\n",
        "    source_chunks.append(Document(page_content=chunk, metadata={}))\n",
        "\n",
        "  # Обработка чанков\n",
        "  chank_count = len(source_chunks)\n",
        "  for number, chank in enumerate(source_chunks):\n",
        "\n",
        "    # Добавление информации в метаданные чанка о его номере в базе\n",
        "    chank.metadata['chank'] = f'{number+1}/{chank_count}'\n",
        "\n",
        "    # Вывод количества слов/токенов во фрагменте, если включен режим verbose\n",
        "    if verbose:\n",
        "      count = num_tokens_from_string(chank.page_content)\n",
        "      print(f\"\\n Chank#{number+1}/{chank_count}. Tokens in text = {count}\\n {'-' * 20}\\n{insert_newlines(str(chank))}\\n{'=' * 20}\")\n",
        "\n",
        "  # Возвращение списка фрагментов текста\n",
        "  return source_chunks\n",
        "#\n",
        "#\n",
        "def create_embedding(data, verbose=0):\n",
        "  \"\"\"Функция преобразует текстовую базу знаний в векторную.\"\"\"\n",
        "\n",
        "  # Разбивка текста на чанки\n",
        "  source_chunks = split_text(text=data, verbose=verbose)\n",
        "\n",
        "  # Создание векторной базы знаний на основе чанков\n",
        "  search_index = FAISS.from_documents(source_chunks, OpenAIEmbeddings())\n",
        "\n",
        "  # Подсчёт общего количества токенов во всех чанках\n",
        "  count_token = num_tokens_from_string(' '.join([x.page_content for x in source_chunks]))\n",
        "\n",
        "  # Печать сводной информации по созданию векторной Базы знаний\n",
        "  print('\\n==================== ')\n",
        "  print('Количество токенов в документе :', count_token)\n",
        "\n",
        "  # Стоимость эмбеддинга согласно прайса на 22.11.2023 - 0,0001/1К токенов (https://openai.com/pricing#language-models)\n",
        "  print('ЦЕНА запроса:', 0.0001*(count_token/1000), ' $')\n",
        "  print('==================== ')\n",
        "\n",
        "  return search_index\n",
        "#\n",
        "#\n",
        "def load_file(url: str):\n",
        "  \"\"\"Функция загрузки документа по url в виде текста.\"\"\"\n",
        "\n",
        "  try:\n",
        "    response = requests.get(url) # получение документа по url\n",
        "    response.raise_for_status()  # проверка ответа и если была ошибка - формирование исключения\n",
        "    return response.text\n",
        "\n",
        "  except Exception as e:\n",
        "    print(e)\n",
        "#\n",
        "#\n",
        "def load_search_indexes(url: str, verbose=0):\n",
        "  \"\"\"Функция загружает текстовую базу знаний и преобразует её в векторную.\"\"\"\n",
        "\n",
        "  try:\n",
        "    return create_embedding(load_file(url), verbose=verbose)\n",
        "\n",
        "  except Exception as e:\n",
        "    print(e)\n",
        "#\n",
        "#\n",
        "def insert_newlines(text: str, max_len: int = 120) -> str:\n",
        "  \"\"\"Функция форматирует переданный текст по длине для лучшего восприятия на экране.\"\"\"\n",
        "\n",
        "  words = text.split()\n",
        "  lines = []\n",
        "  current_line = ''\n",
        "\n",
        "  for word in words:\n",
        "    if len(current_line + ' ' + word) > max_len:\n",
        "      lines.append(current_line)\n",
        "      current_line = ''\n",
        "    current_line += ' ' + word\n",
        "\n",
        "  lines.append(current_line)\n",
        "\n",
        "  return '\\n'.join(lines)\n",
        "#\n",
        "#\n",
        "def filtred_docs(docs, limit_score):\n",
        "  \"\"\"Функция удаляет из отобранных чанков чанки, у которых score выше значения limit_score.\n",
        "     При этом limit_score определяет гарантированно ошибочные чанки.\n",
        "     Далее отбор чанков идёт в зависимости от значения score первого не нулевого score.\n",
        "     Если есть чанк с score=0, он оставляется единственным.\n",
        "     Если limit_score = 0, то чанки не фильтруются.\"\"\"\n",
        "\n",
        "  if bool(limit_score):\n",
        "    r = []\n",
        "    score = 0\n",
        "\n",
        "    def set_score(d, sc):\n",
        "      d[0].metadata['score'] = sc\n",
        "      return d\n",
        "\n",
        "    for doc in docs:\n",
        "\n",
        "      s = doc[1]\n",
        "      if s==0:\n",
        "        r.append(set_score(doc[0],s))\n",
        "        break\n",
        "      if score==0:\n",
        "        if s<.2: score = s*1.7\n",
        "        elif s<.3: score = s+.05\n",
        "        else: score = s+.01\n",
        "        if score>limit_score: score = limit_score\n",
        "      if s<score: r.append(set_score(doc,s))\n",
        "\n",
        "    print(f'Фильр пропустил чанк(ов): {len(r)} из {len(docs)}')\n",
        "\n",
        "  else:\n",
        "    r = docs\n",
        "\n",
        "  return r\n",
        "#\n",
        "#\n",
        "def answer_index(model,\n",
        "                 system,\n",
        "                 topic: str,\n",
        "                 query,\n",
        "                 search_index,\n",
        "                 temp=0,\n",
        "                 verbose_documents=0,\n",
        "                 verbose_price=0,\n",
        "                 top_documents=8,\n",
        "                 limit_score=0.0):\n",
        "  \"\"\"Основная функция, которая формирует запрос и получает ответ от OpenAI по заданному вопросу на основе векторной базы знаний.\"\"\"\n",
        "\n",
        "  # Выбор варианта вопроса: если есть query, то вопрос задан из группового запроса, и он имеет приоритет\n",
        "  question = query['question'] if bool(query) else topic\n",
        "\n",
        "  # Выборка релевантных чанков\n",
        "  docs = filtred_docs(search_index.similarity_search_with_score(question, k=top_documents), limit_score)\n",
        "\n",
        "  \"\"\"Этот блок закоментирован.\n",
        "     Рассматривается возможность даполнительного запроса с фильтрацией чанков по метаданным.\n",
        "     Пока нереализовано.\"\"\"\n",
        "  #for i, doc in enumerate(docs):\n",
        "  #  header1 = doc[0].metadata.get('Header 1')\n",
        "  #  print(f'{i}. {header1}. Score: {doc[1]}')\n",
        "  #  if header1=='Оценка' or header1=='Экспертиза':\n",
        "  #    #docs = search_index.similarity_search_with_score(question, k=top_documents,)\n",
        "  #    #print(f'{i}. {header1}. Score: {doc[1]}')\n",
        "  #    pass\n",
        "\n",
        "  message_content = ''            # контекст для GPT\n",
        "  message_content_display = ''    # контекст для вывода на экран\n",
        "\n",
        "  for i, doc in enumerate(docs):\n",
        "\n",
        "    # Формирование контекста для запроса GPT и показа на экран отобранных чанков\n",
        "    message_content = message_content + f'Отрывок документа №{i+1}:{doc[0].page_content}'\n",
        "    message_content_display = message_content_display + f\"\\n Отрывок документа №{i+1}. Chank № {doc[0].metadata.get('chank')}. Score({str(round(doc[1], 3))})\\n -----------------------\\n{insert_newlines(doc[0].page_content)}\\n\"\n",
        "\n",
        "    # Сбор информации для группого запроса\n",
        "    if bool(query):\n",
        "\n",
        "      # Выделение из строки метаданных ссылки: если нет - присваиваем пустую строку\n",
        "      search_link_h1 = re.search(r'\\[(.*?)\\]', doc[0].metadata.get('Header 1')) if bool(doc[0].metadata.get('Header 1')) else ''\n",
        "      search_link_h2 = re.search(r'\\[(.*?)\\]', doc[0].metadata.get('Header 2')) if bool(doc[0].metadata.get('Header 2')) else ''\n",
        "      search_link_h3 = re.search(r'\\[(.*?)\\]', doc[0].metadata.get('Header 3')) if bool(doc[0].metadata.get('Header 3')) else ''\n",
        "      search_link_h4 = re.search(r'\\[(.*?)\\]', doc[0].metadata.get('Header 4')) if bool(doc[0].metadata.get('Header 4')) else ''\n",
        "\n",
        "      # Выбор самой внутренней ссылки: если несколько ссылок, то самая внутренняя ссылается на расположение чанка на сайте\n",
        "      link = ''\n",
        "      if bool(search_link_h4): link = search_link_h4.group(1)\n",
        "      elif bool(search_link_h3): link = search_link_h3.group(1)\n",
        "      elif bool(search_link_h2): link = search_link_h2.group(1)\n",
        "      elif bool(search_link_h1): link = search_link_h1.group(1)\n",
        "\n",
        "      # Заполнение запроса выбранными чанками\n",
        "      query[f'chank_{i+1}'] = f\"Chank № {doc[0].metadata.get('chank')}. Score({str(round(doc[1], 3))}).\\n{doc[0].page_content}.\\n--------\\n{link}\"\n",
        "\n",
        "  # Вывод на экран отобранных чанков\n",
        "  if (verbose_documents): print(message_content_display)\n",
        "\n",
        "  user_prompt = '''Ответь на запрос клиента на основе информации представленной в данном документе и текущем диалоге с клиентом.\n",
        "# Запрос клиента\n",
        "{topic}\n",
        "# Текущий диалог с клиентом\n",
        "```\n",
        "{dialog}\n",
        "```\n",
        "# Документ\n",
        "```\n",
        "{doc_chunks}\n",
        "```'''.format(topic = question, dialog = '', doc_chunks = message_content)\n",
        "\n",
        "\n",
        "  # Отправка запроса к Open AI\n",
        "  completion = OpenAI().chat.completions.create(model = model[0],\n",
        "                                                messages = [{'role': 'system', 'content': system},\n",
        "                                                            {'role': 'user',   'content': user_prompt}],\n",
        "                                                temperature = temp)\n",
        "\n",
        "  # Подсчёт токенов и стоимости\n",
        "  prompt_tokens = completion.usage.prompt_tokens\n",
        "  total_tokens = completion.usage.total_tokens\n",
        "  price_prompt_tokens = prompt_tokens * model[1]/1000\n",
        "  price_answer_tokens = (total_tokens - prompt_tokens) * model[2]/1000\n",
        "  price_total_token = price_prompt_tokens + price_answer_tokens\n",
        "\n",
        "  # Сбор информации для группого запроса\n",
        "  if bool(query):\n",
        "    query['price_query'] = price_total_token\n",
        "    query['price_question'] = price_prompt_tokens\n",
        "    query['price_answer'] = price_answer_tokens\n",
        "    query['token_query'] = total_tokens\n",
        "    query['token_question'] = prompt_tokens\n",
        "    query['token_answer'] = total_tokens - prompt_tokens\n",
        "\n",
        "  # Вывод на экран стоимости запроса\n",
        "  if (verbose_price):\n",
        "    print('\\n======================================================= ')\n",
        "    print(f'{prompt_tokens} токенов использовано на вопрос. Цена: {round(price_prompt_tokens, 6)} $.')\n",
        "    print(f'{total_tokens - prompt_tokens} токенов использовано на ответ.  Цена: {round(price_answer_tokens, 6)} $.')\n",
        "    print(f'{total_tokens} токенов использовано всего.     Цена: {round(price_total_token, 6)} $')\n",
        "    print('======================================================= ')\n",
        "\n",
        "  # Ответ OpenAI\n",
        "  return completion.choices[0].message.content\n",
        "#\n",
        "#\n",
        "def question_normalization(text):\n",
        "  \"\"\"Функция нормализует текст вопроса.\n",
        "     Удаляет лишние пробелы, символы, знаки. Делает первое слово с заглавной буквы.\"\"\"\n",
        "\n",
        "  ## Удаление символов \"!?.,-\" из текста\n",
        "  #text = re.sub(r'[-!?_]', '', text) # '[-!?.,_]'\n",
        "\n",
        "  # Разделение текста на слова\n",
        "  words = text.split()\n",
        "\n",
        "  ## Проход по каждому слову\n",
        "  #for i in range(len(words)):\n",
        "  #\n",
        "  #  # Если слово состоит из заглавных букв и длина больше 1 символа, считаем это аббревиатурой\n",
        "  #  if words[i].isupper() and len(words[i]) > 1: continue # пропускаем аббревиатуры\n",
        "  #  else: words[i] = words[i].lower() # преобразуем в нижний регистр\n",
        "\n",
        "  ## Преобразуем первое слово в строке к верхнему регистру\n",
        "  #words[0] = words[0].capitalize()\n",
        "\n",
        "  # Объединяем слова обратно в строку\n",
        "  return ' '.join(words)\n",
        "#\n",
        "#\n",
        "def load_text_db(url: str, verbose=0):\n",
        "  \"\"\"Функция загружает текстовую базу знаний и преобразует её в векторную.\"\"\"\n",
        "\n",
        "  match_ = re.search('/document/d/([a-zA-Z0-9-_]+)', url)\n",
        "  if match_ is None: response = requests.get(url)\n",
        "  else: response = requests.get(f'https://docs.google.com/document/d/{match_.group(1)}/export?format=txt')\n",
        "  response.raise_for_status()\n",
        "\n",
        "  return create_embedding(response.text, verbose=verbose)\n",
        "#\n",
        "#\n",
        "def load_index_db(name, url: str, verbose=0):\n",
        "  \"\"\"Функция загружает векторную базу знаний.\"\"\"\n",
        "\n",
        "  # index_db\n",
        "  name_db = name + '.zip'\n",
        "\n",
        "  # Скачивание архива базы знаний\n",
        "  response = requests.get(url) # получение документа по url\n",
        "  response.raise_for_status()  # проверка ответа, и если была ошибка - формирование исключения\n",
        "\n",
        "  # Сохранение архива\n",
        "  with open(name_db, 'wb') as file:\n",
        "    file.write(response.content)\n",
        "\n",
        "  # Разархивирование базы знаний\n",
        "  with zipfile.ZipFile(name_db, 'r') as zip:\n",
        "    zip.extractall()\n",
        "\n",
        "  # Загрузка векторной базы знаний\n",
        "  db = FAISS.load_local(name, OpenAIEmbeddings())\n",
        "\n",
        "  if verbose:\n",
        "\n",
        "    docs = db.similarity_search_with_score('', k=10000)\n",
        "    docs_sorted = sorted(docs, key=lambda x: int(x[0].metadata.get('chank').split('/')[0]))\n",
        "\n",
        "    for doc in docs_sorted:\n",
        "      count = num_tokens_from_string(doc[0].page_content)\n",
        "      print(f\"\\n Chank#{doc[0].metadata.get('chank')}. Tokens in text = {count}\\n {'-' * 20} \\n{insert_newlines(str(doc))}\\n{'=' * 20}\")\n",
        "    print()\n",
        "\n",
        "  return db\n",
        "#\n",
        "#\n",
        "def load_db(name, index_db_url: str, text_db_url: str, verbose=0):\n",
        "  \"\"\"Функция организует очерёдность загрузки базы знаний.\n",
        "     Сначала идёт загрузка векторной базы, если она не загружается,\n",
        "     то загружается база в текстовом формате и потом преобразуется в векторную.\"\"\"\n",
        "\n",
        "  try:\n",
        "    db = load_index_db(name, index_db_url, verbose)\n",
        "    print('Загрузка векторной базы знаний выполнена успешно.')\n",
        "    return db\n",
        "\n",
        "  except Exception as e:\n",
        "    print('По указанной ссылке векторной базы знаний нет.')\n",
        "    print(e)\n",
        "    print('\\nИдёт загрузка текстовой базы знаний...')\n",
        "\n",
        "    try:\n",
        "      db = load_text_db(text_db_url, verbose)\n",
        "      print('\\nЗагрузка текстовой базы знаний выполнена успешно.')\n",
        "      return db\n",
        "\n",
        "    except Exception as e:\n",
        "      print('\\nПо указанной ссылке текстовой базы знаний нет.')\n",
        "      print(e)\n",
        "      print('\\nОшибка загрузки!')\n",
        "#\n",
        "#\n",
        "def archive_db(folder_to_zip, output_filename, index_db):\n",
        "  \"\"\"Создание архива базы знаний (при необходимости).\n",
        "     В дальнейшем архив нужно поместить на GitHub.\"\"\"\n",
        "\n",
        "  # Сохранение папки с векторной базой знаний\n",
        "  index_db.save_local(folder_to_zip)\n",
        "\n",
        "  # Архивирование папки с векторной базой знаний\n",
        "  with zipfile.ZipFile(output_filename, 'w') as zip:\n",
        "    for root, dirs, files in os.walk(folder_to_zip):\n",
        "      for file in files:\n",
        "        zip.write(os.path.join(root, file))\n",
        "  print(f'Архив базы знаний создан! Имя файла: {output_filename}.')\n",
        "\n",
        "\n",
        "# Данные по названиям модели и стоимости токена на 22.11.2023 (https://openai.com/pricing#language-models)\n",
        "# Псевдоним = ['Имя модели', 'Цена токена - вопроса', 'Цена токена - ответа']\n",
        "MODEL_GPT_4_1106_PREVIEW = ['gpt-4-1106-preview', 0.01,  0.03 ] # 128K tokens\n",
        "MODEL_GPT_3_5_TURBO_1106 = ['gpt-3.5-turbo-1106', 0.001, 0.002] #  16K tokens\n",
        "\n",
        "MODEL_COST = {x[0]:x for x in [MODEL_GPT_4_1106_PREVIEW, MODEL_GPT_3_5_TURBO_1106]}"
      ],
      "metadata": {
        "id": "-c7DQFPA6L_d"
      },
      "execution_count": 4,
      "outputs": []
    },
    {
      "cell_type": "markdown",
      "source": [
        "### ChatSheetQuestions"
      ],
      "metadata": {
        "id": "12NdiiqSZxkL"
      }
    },
    {
      "cell_type": "code",
      "source": [
        "class ChatSheetQuestions:\n",
        "\n",
        "  # Введём словарь, чтобы можно было обращаться по имени к столбцу\n",
        "  column_name = {'Вопрос':      0,\n",
        "                 'Ответ':       1,\n",
        "                 'Оценка':      2,\n",
        "                 'Комментарий': 3,\n",
        "                 'Ошибка':      4,\n",
        "                 'Модель':      5,\n",
        "                 'Промпт':      6,\n",
        "                 'Чанк №1':     7,\n",
        "                 'Чанк №2':     8,\n",
        "                 'Чанк №3':     9,\n",
        "                 'Чанк №4':    10,\n",
        "                 'Чанк №5':    11,\n",
        "                 'Чанк №6':    12,\n",
        "                 'Чанк №7':    13,\n",
        "                 'Чанк №8':    14}\n",
        "\n",
        "  top_documents = 8\n",
        "  temperature = 0\n",
        "  limit_score = 0\n",
        "  question_norma = False\n",
        "  chat_prompt = ''\n",
        "  index_db = None\n",
        "  gpt_model = 'gpt-3.5-turbo-1106'\n",
        "\n",
        "  SELECT_MODEL_GPT = MODEL_COST[gpt_model]\n",
        "\n",
        "\n",
        "  def __init__(self, url_table, gc_auth) -> None:\n",
        "    # Название файла с вопросами.\n",
        "    # Ссылка на общий файл.\n",
        "    try:\n",
        "\n",
        "      self.spreadsheet = gc_auth.open_by_url(url_table)\n",
        "      print(f'Подключились к документу - {self.spreadsheet.title}')\n",
        "\n",
        "      # Получаем список всех страниц файла\n",
        "      self.worksheet_list = self.spreadsheet.worksheets()\n",
        "      print('\\nСтраницы документа:')\n",
        "      print('-------------------')\n",
        "      for i, worksheet in enumerate(self.worksheet_list):\n",
        "        print(f'{i}. {worksheet.title}')\n",
        "\n",
        "    except Exception as e:\n",
        "\n",
        "      print(e)\n",
        "      print(f'Ошибка подключения к документу. Проверьте ссылку.')\n",
        "\n",
        "\n",
        "  def select_sheet(self, number_sheet=1):\n",
        "    # Выбор страницы в таблице.\n",
        "    # Устанавливаем номер рабочего листа по списку выше.\n",
        "    self.number_sheet = number_sheet\n",
        "    for c in self.column_name: self.column_name[c] = -1\n",
        "\n",
        "    if not number_sheet==None:\n",
        "\n",
        "      # Выбор нужного листа из списка\n",
        "      self.worksheet = self.worksheet_list[number_sheet]\n",
        "      worksheet = self.worksheet\n",
        "\n",
        "      # Проверка текущей страницы\n",
        "      print(f'Текущая страница - \"{worksheet.title}\"\\n')\n",
        "\n",
        "      # Список всех столбцов на странице\n",
        "      print('-----№---------Название---')\n",
        "      for i, col in enumerate(worksheet.row_values(1)):\n",
        "        print(f'Колонка №{i+1:<2} {col}')\n",
        "        self.column_name[col] = i\n",
        "\n",
        "    else: print('Введите номер страницы.')\n",
        "\n",
        "\n",
        "  def load_sheet(self):\n",
        "    # Загрузка вопросов.\n",
        "\n",
        "    column_question = self.column_name['Вопрос']\n",
        "    #print(f'column_question = {column_question}')\n",
        "    verbose_question = 0 # @param {type:\"integer\"} #\n",
        "\n",
        "    worksheet = self.worksheet\n",
        "    # В данном блоке происходит заполнение списка запросов вопросами и дополнительной\n",
        "    # информацией с выбранного листа. Загрузка выполняется ВСЕХ строк с вопросами для\n",
        "    # последующей корректной работы. Далее из этого списка выбирается нужный диапазон\n",
        "    # вопросов для группового запроса к GPT.\n",
        "\n",
        "    # Выбор всех вопросов\n",
        "    column = worksheet.col_values(column_question+1)\n",
        "    #print(f'column = {column}')\n",
        "\n",
        "    if self.question_norma: print('Вопросы будут нормализованы.')\n",
        "\n",
        "    # Создаём пустой список запросов\n",
        "    list_query = []\n",
        "    column_name = self.column_name\n",
        "    r_question  = column_name['Вопрос']\n",
        "    r_appraisal = column_name['Оценка']\n",
        "\n",
        "    # Заполнение списка запросов информацией с выбранного листа\n",
        "    for i in range(len(column)-1):\n",
        "\n",
        "      row = worksheet.row_values(i+2)\n",
        "\n",
        "      # Считывание ячеек с контролем их наличия для избежании ошибки чтения\n",
        "      # Проверить индексы row со списком в ячейке выше\n",
        "      question = row[r_question] if len(row)>r_question else ''    # вопрос\n",
        "      appraisal = row[r_appraisal] if len(row)>r_appraisal else '' # оценка\n",
        "\n",
        "      # Нормализация вопроса\n",
        "      question = question_normalization(question) if self.question_norma else question\n",
        "\n",
        "\n",
        "      # Словарь запроса\n",
        "      query = {\n",
        "                'line':           i+2,              # номер строки в документе: берём строки с вопросами\n",
        "                'question':       question,         # вопрос\n",
        "                'answer_gpt':     '',               # ответ GPT\n",
        "                'appraisal':      appraisal,        # оценка ответа\n",
        "                'bug':            '',               # ошибка\n",
        "                'comments':       '',               # комментарии\n",
        "                'chank_1':        '',               # чанк №1\n",
        "                'chank_2':        '',               # чанк №2\n",
        "                'chank_3':        '',               # чанк №3\n",
        "                'chank_4':        '',               # чанк №4\n",
        "                'chank_5':        '',               # чанк №5\n",
        "                'chank_6':        '',               # чанк №6\n",
        "                'chank_7':        '',               # чанк №7\n",
        "                'chank_8':        '',               # чанк №8\n",
        "                'gpt_model':      self.gpt_model,   # модель GPT\n",
        "                'chat_prompt':    self.chat_prompt, # промпт\n",
        "                'price_query':    0,                # стоимость запроса общая\n",
        "                'price_question': 0,                # стоимость вопроса с контекстом\n",
        "                'price_answer':   0,                # стоимость ответа\n",
        "                'token_query':    0,                # количество токенов всего: вопрос-ответ\n",
        "                'token_question': 0,                # количество токенов в вопросе с контекстом\n",
        "                'token_answer':   0,                # количество токенов в ответе\n",
        "      }\n",
        "      list_query.append(query)\n",
        "\n",
        "    # Вывод вопросов\n",
        "    if verbose_question:\n",
        "      for query in list_query:\n",
        "        print(f'Строка №{query[\"line\"]}. Вопрос: {query[\"question\"]}')\n",
        "\n",
        "    # Диапазон строк с вопросами на выбранной странице\n",
        "    print(f'\\n\\nЗагрузка списка вопросов завершена. Количество вопросов: {len(column)-1}.')\n",
        "    print(f\"Диапазон номеров строк с вопросами (включительно): [{list_query[0]['line']}:{list_query[-1]['line']}].\")\n",
        "    self.list_query = list_query\n",
        "    #print(list_query)\n",
        "\n",
        "\n",
        "  def execute(self,  row_first = 2, row_end = 2, verbose_answer = 0, verbose_chank = 0):\n",
        "\n",
        "    # @title Выбор диапазона вопросов группого запроса. Отправка запроса. { vertical-output: true }\n",
        "\n",
        "    # Определение диапазона строк с вопросами. Начало диапазона, конец диапазона (включительно).\n",
        "\n",
        "    # Если подвис ответ от GPT можно прервать обработку, установить row_first\n",
        "    # в значение на которой была прервана обработка и запустить обработку заново.\n",
        "    # Ранее обработанные вопросы будут сохранены в файле.\n",
        "\n",
        "    # Обнуление общих затрат на групповой запрос\n",
        "    total_price_query, total_token_query, total_query = 0, 0, 0\n",
        "\n",
        "    # Фиксация времени\n",
        "    start_group = timeit.default_timer()\n",
        "\n",
        "    list_query = self.list_query\n",
        "    for query in list_query[row_first-2:row_end-1]:\n",
        "\n",
        "      # Проверка на пустой вопрос: если пустой - пропуск цикла\n",
        "      if not bool(query['question'].strip()):\n",
        "        print(f'На строке № {query[\"line\"]} - вопроса нет.')\n",
        "        continue\n",
        "\n",
        "      # Отправка запроса, фиксация времени\n",
        "      start = timeit.default_timer()\n",
        "      try:\n",
        "        query['answer_gpt'] = answer_index(model = self.SELECT_MODEL_GPT,\n",
        "                                           system = self.chat_prompt,\n",
        "                                           topic = '',\n",
        "                                           query = query,\n",
        "                                           search_index = self.index_db,\n",
        "                                           temp = self.temperature,\n",
        "                                           verbose_documents = 0,\n",
        "                                           verbose_price = 0,\n",
        "                                           top_documents = self.top_documents,\n",
        "                                           limit_score = self.limit_score)\n",
        "        total_price_query += query['price_query']\n",
        "        total_token_query += query['token_query']\n",
        "        total_query +=1\n",
        "      except Exception as e:\n",
        "        print(f'Ошибка ответа GPT на строке №{query[\"line\"]}. - {e}')\n",
        "      end = timeit.default_timer()\n",
        "\n",
        "      # Сообщение об успешности ответа от GPT\n",
        "      print(f'Строка №{query[\"line\"]}. Ответ на вопрос получен за - {round(end-start, 3)} сек.')\n",
        "\n",
        "      # Запись ответа в файл\n",
        "      worksheet = self.worksheet\n",
        "      r_answer_gpt = self.column_name['Ответ GPT']\n",
        "      r_gpt_model = self.column_name['Модель GPT']\n",
        "      r_prompt = self.column_name['Промпт']\n",
        "      r_chank_1 = self.column_name['Чанк №1']\n",
        "      r_chank_2 = self.column_name['Чанк №2']\n",
        "      r_chank_3 = self.column_name['Чанк №3']\n",
        "      r_chank_4 = self.column_name['Чанк №4']\n",
        "      r_chank_5 = self.column_name['Чанк №5']\n",
        "      r_chank_6 = self.column_name['Чанк №6']\n",
        "      r_chank_7 = self.column_name['Чанк №7']\n",
        "      r_chank_8 = self.column_name['Чанк №8']\n",
        "\n",
        "      def update_cell(row, name):\n",
        "        worksheet.update_cell(query['line'], row+1, query[name]) # ответ GPT\n",
        "\n",
        "      try:\n",
        "        if bool(query['answer_gpt']):\n",
        "          update_cell(r_answer_gpt, 'answer_gpt') # ответ GPT\n",
        "          update_cell(r_gpt_model, 'gpt_model')   # модель GPT\n",
        "          update_cell(r_prompt, 'chat_prompt')    # промпт\n",
        "          update_cell(r_chank_1, 'chank_1')       # чанк №1\n",
        "          update_cell(r_chank_2, 'chank_2')       # чанк №2\n",
        "          update_cell(r_chank_3, 'chank_3')       # чанк №3\n",
        "          update_cell(r_chank_4, 'chank_4')       # чанк №4\n",
        "          update_cell(r_chank_5, 'chank_5')       # чанк №5\n",
        "          update_cell(r_chank_6, 'chank_6')       # чанк №6\n",
        "          update_cell(r_chank_7, 'chank_7')       # чанк №7\n",
        "          update_cell(r_chank_8, 'chank_8')       # чанк №8\n",
        "\n",
        "          print(f'Строка №{query[\"line\"]}. Ответ записан в файл.')\n",
        "\n",
        "          # Контроль номализации вопроса и перезапись его в таблице\n",
        "          if self.question_norma:\n",
        "            question_old = worksheet.row_values(query['line'])[self.column_question]\n",
        "            if not (question_old == query['question']):\n",
        "              print(\"    Вопрос нормализован и перезаписан в таблице.\")\n",
        "              print(f\"    Старый вариант: {question_old}\")\n",
        "              print(f\"    Новый вариант : {query['question']}\")\n",
        "              worksheet.update_cell(query['line'], self.column_question+1, query['question'])\n",
        "      except Exception as e:\n",
        "        print('\\n========================================================')\n",
        "        print(f'!!!Ошибка записи строки №{query[\"line\"]} в файл. - {e}')\n",
        "        print('========================================================')\n",
        "\n",
        "    end_group = timeit.default_timer()\n",
        "\n",
        "    # Вывод вопросов и ответов\n",
        "    if verbose_answer:\n",
        "      for i, query in enumerate(list_query):\n",
        "        if query['answer_gpt']:\n",
        "          print()\n",
        "          print(insert_newlines(f\"ВОПРОС №{i+2}: {query['question']}\"))\n",
        "          print('---------------------------')\n",
        "          print(insert_newlines(f\"\\nОТВЕТ: {query['answer_gpt']}\"))\n",
        "          print('===========================\\n')\n",
        "          if verbose_chank:\n",
        "            print(query['chank_1'])\n",
        "            print()\n",
        "            print(query['chank_2'])\n",
        "            print()\n",
        "            print(query['chank_3'])\n",
        "            print()\n",
        "            print(query['chank_4'])\n",
        "            print()\n",
        "            print(query['chank_5'])\n",
        "            print()\n",
        "            print(query['chank_6'])\n",
        "            print()\n",
        "            print(query['chank_7'])\n",
        "            print()\n",
        "            print(query['chank_8'])\n",
        "\n",
        "    print()\n",
        "    print('-------------------------------------------')\n",
        "    print(f'Вопросов в пакетной обработке - {total_query} шт.')\n",
        "    print(f'Время пакетной обработки      - {round(end_group-start_group, 1)} сек.')\n",
        "    print(f'Стоимость пакетной обработки  - {round(total_price_query, 4)} $.')\n",
        "    print(f'Токенов в пакетной обработке  - {total_token_query} шт.')"
      ],
      "metadata": {
        "id": "q0SylHrbafds"
      },
      "execution_count": 5,
      "outputs": []
    },
    {
      "cell_type": "markdown",
      "source": [
        "### FaissDB"
      ],
      "metadata": {
        "id": "C-qMmIg3ups4"
      }
    },
    {
      "cell_type": "code",
      "source": [
        "\"\"\"\n",
        "# Список папок с векторными базами (имена папок)\n",
        "index_db_list = ['DataScience', 'Trading', 'PyTourch', 'AutoML']\n",
        "\n",
        "class FaissDB:\n",
        "  @staticmethod\n",
        "  def create_search_index(db_path,       # путь к папкам с базой FAISS\n",
        "                          index_db_list, # список папок векторными базами (имена папок)\n",
        "                          embeddings = OpenAIEmbeddings()):\n",
        "    flag = True\n",
        "    for index_db in index_db_list:\n",
        "      index_db_path = os.path.join(db_path, index_db)\n",
        "      # count_base = 0\n",
        "      for curr_base in tqdm(os.listdir(index_db_path)):\n",
        "        if flag:\n",
        "          db = FAISS.load_local(os.path.join(index_db_path, curr_base), embeddings)\n",
        "          flag = False\n",
        "        else:\n",
        "          db.merge_from(FAISS.load_local(os.path.join(index_db_path, curr_base), embeddings))\n",
        "        # count_base += 1\n",
        "    return db\n",
        "\"\"\""
      ],
      "metadata": {
        "id": "P35AHNIzu1Rg"
      },
      "execution_count": null,
      "outputs": []
    },
    {
      "cell_type": "code",
      "source": [
        "def load_selected_bases(index_db_links,                           # словарь ссылок на векторные базы\n",
        "                        selected = ['TelegramPosts_index_db',     # выбранные базы для загрузки\n",
        "                                    'TelegramEther_index_db',\n",
        "                                    'TelegramVideo_index_db',\n",
        "                                    'BusinessMarathon_index_db',\n",
        "                                    'YouTube_index_db',\n",
        "                                    'Platrum_index_db']):\n",
        "  flag = True\n",
        "  # count_base = 0\n",
        "  for curr_base in tqdm(selected):\n",
        "    if flag:\n",
        "      db = load_db(curr_base, index_db_links[curr_base], 'https://', verbose=0)\n",
        "      flag = False\n",
        "    else:\n",
        "      db.merge_from(load_db(curr_base, index_db_links[curr_base], 'https://', verbose=0))\n",
        "    # count_base += 1\n",
        "  return db"
      ],
      "metadata": {
        "id": "mN9h5mvKh9mp"
      },
      "execution_count": 6,
      "outputs": []
    },
    {
      "cell_type": "markdown",
      "source": [
        "## Ввод API ключа"
      ],
      "metadata": {
        "id": "6hJrrs6v6De2"
      }
    },
    {
      "cell_type": "code",
      "source": [
        "get_key_ОpenAI()"
      ],
      "metadata": {
        "colab": {
          "base_uri": "https://localhost:8080/"
        },
        "id": "RoV9tGwXGTGS",
        "outputId": "7bc7d394-fee8-41dd-da3b-0577b3139b9d"
      },
      "execution_count": 7,
      "outputs": [
        {
          "name": "stdout",
          "output_type": "stream",
          "text": [
            "OpenAI API Key:··········\n"
          ]
        }
      ]
    },
    {
      "cell_type": "markdown",
      "source": [
        "## Создание векторной базы знаний"
      ],
      "metadata": {
        "id": "Sn5N4dk08DU4"
      }
    },
    {
      "cell_type": "markdown",
      "source": [
        "### Посты в Telegram"
      ],
      "metadata": {
        "id": "SDUwwefsO-Wm"
      }
    },
    {
      "cell_type": "code",
      "source": [
        "# @title Загрузка базы знаний из постов в Telegram по ссылке в текстовом формате\n",
        "\n",
        "# Ссылка на базу знаний в текстовом формате\n",
        "text_db_link = 'https://docs.google.com/document/d/1u01H0WKjgYDJV2-JtLm_Kgd-1hGRKTOhwCv935IFcsk/edit?usp=sharing' #@param string\n",
        "\n",
        "# Загрузка базы знаний\n",
        "TelegramPosts_index_db = load_db('TelegramPosts_index_db', 'https://', text_db_link, verbose=0)"
      ],
      "metadata": {
        "colab": {
          "base_uri": "https://localhost:8080/"
        },
        "outputId": "64499514-10a5-4467-aef2-2154c9babf6c",
        "cellView": "form",
        "id": "4K1J5XieiiaD"
      },
      "execution_count": null,
      "outputs": [
        {
          "output_type": "stream",
          "name": "stdout",
          "text": [
            "По указанной ссылке векторной базы знаний нет.\n",
            "Invalid URL 'https://': No host supplied\n",
            "\n",
            "Идёт загрузка текстовой базы знаний...\n",
            "\n",
            "==================== \n",
            "Количество токенов в документе : 129430\n",
            "ЦЕНА запроса: 0.012943000000000001  $\n",
            "==================== \n",
            "\n",
            "Загрузка текстовой базы знаний выполнена успешно.\n"
          ]
        }
      ]
    },
    {
      "cell_type": "code",
      "source": [
        "# Архивируем полученную базу знаний в векторном формате\n",
        "archive_db('TelegramPosts_index_db', 'TelegramPosts_index_db.zip', TelegramPosts_index_db)"
      ],
      "metadata": {
        "colab": {
          "base_uri": "https://localhost:8080/"
        },
        "id": "tLcSVlijv2A2",
        "outputId": "b1dc2e19-6a29-4e42-c8fa-6425cd808257"
      },
      "execution_count": null,
      "outputs": [
        {
          "output_type": "stream",
          "name": "stdout",
          "text": [
            "Архив базы знаний создан! Имя файла: TelegramPosts_index_db.zip.\n"
          ]
        }
      ]
    },
    {
      "cell_type": "markdown",
      "source": [
        "### Эфир в Telegram"
      ],
      "metadata": {
        "id": "5M2zkLdiPDvr"
      }
    },
    {
      "cell_type": "code",
      "source": [
        "# @title Загрузка базы знаний из эфира в Telegram по ссылке в текстовом формате\n",
        "\n",
        "# Ссылка на базу знаний в текстовом формате\n",
        "text_db_link = 'https://docs.google.com/document/d/1oBYFj46MHr8qZQWKiyWsX8tO-5Wnw33Rxf2nweBp0dc/edit?usp=sharing' #@param string\n",
        "\n",
        "# Загрузка базы знаний\n",
        "TelegramEther_index_db = load_db('TelegramEther_index_db', 'https://', text_db_link, verbose=0)"
      ],
      "metadata": {
        "colab": {
          "base_uri": "https://localhost:8080/"
        },
        "outputId": "2d84e181-2362-4b66-ba1a-52dfbd35a626",
        "cellView": "form",
        "id": "nwKS4FITS1Qp"
      },
      "execution_count": null,
      "outputs": [
        {
          "output_type": "stream",
          "name": "stdout",
          "text": [
            "По указанной ссылке векторной базы знаний нет.\n",
            "Invalid URL 'https://': No host supplied\n",
            "\n",
            "Идёт загрузка текстовой базы знаний...\n",
            "\n",
            "==================== \n",
            "Количество токенов в документе : 33901\n",
            "ЦЕНА запроса: 0.0033901000000000005  $\n",
            "==================== \n",
            "\n",
            "Загрузка текстовой базы знаний выполнена успешно.\n"
          ]
        }
      ]
    },
    {
      "cell_type": "code",
      "source": [
        "# Архивируем полученную базу знаний в векторном формате\n",
        "archive_db('TelegramEther_index_db', 'TelegramEther_index_db.zip', TelegramEther_index_db)"
      ],
      "metadata": {
        "colab": {
          "base_uri": "https://localhost:8080/"
        },
        "outputId": "bd68e9ce-c939-4228-d2ec-97c33f3ba676",
        "id": "02Y3OI4lUSrY"
      },
      "execution_count": null,
      "outputs": [
        {
          "output_type": "stream",
          "name": "stdout",
          "text": [
            "Архив базы знаний создан! Имя файла: TelegramEther_index_db.zip.\n"
          ]
        }
      ]
    },
    {
      "cell_type": "markdown",
      "source": [
        "### Видео в Telegram"
      ],
      "metadata": {
        "id": "BXSEIoDhVCRA"
      }
    },
    {
      "cell_type": "code",
      "source": [
        "# @title Загрузка базы знаний из видео в Telegram по ссылке в текстовом формате\n",
        "\n",
        "# Ссылка на базу знаний в текстовом формате\n",
        "text_db_link = 'https://docs.google.com/document/d/1WJe4VlYsk-AiXqBY71xunSRU6Mdlbmb7YEq9Rl10Z7U/edit?usp=sharing' #@param string\n",
        "\n",
        "# Загрузка базы знаний\n",
        "TelegramVideo_index_db = load_db('TelegramVideo_index_db', 'https://', text_db_link, verbose=0)"
      ],
      "metadata": {
        "colab": {
          "base_uri": "https://localhost:8080/"
        },
        "outputId": "92128b8c-5410-4a22-b1bf-80f857c1fcaf",
        "cellView": "form",
        "id": "b7Mdek6PVRFn"
      },
      "execution_count": null,
      "outputs": [
        {
          "output_type": "stream",
          "name": "stdout",
          "text": [
            "По указанной ссылке векторной базы знаний нет.\n",
            "Invalid URL 'https://': No host supplied\n",
            "\n",
            "Идёт загрузка текстовой базы знаний...\n",
            "\n",
            "==================== \n",
            "Количество токенов в документе : 4080\n",
            "ЦЕНА запроса: 0.00040800000000000005  $\n",
            "==================== \n",
            "\n",
            "Загрузка текстовой базы знаний выполнена успешно.\n"
          ]
        }
      ]
    },
    {
      "cell_type": "code",
      "source": [
        "# Архивируем полученную базу знаний в векторном формате\n",
        "archive_db('TelegramVideo_index_db', 'TelegramVideo_index_db.zip', TelegramVideo_index_db)"
      ],
      "metadata": {
        "colab": {
          "base_uri": "https://localhost:8080/"
        },
        "outputId": "4ff5dd5a-3052-4428-a298-ca20461648d8",
        "id": "yrVqttIWVt1o"
      },
      "execution_count": null,
      "outputs": [
        {
          "output_type": "stream",
          "name": "stdout",
          "text": [
            "Архив базы знаний создан! Имя файла: TelegramVideo_index_db.zip.\n"
          ]
        }
      ]
    },
    {
      "cell_type": "markdown",
      "source": [
        "### Бизнес-марафон"
      ],
      "metadata": {
        "id": "LUlS-doqXAUn"
      }
    },
    {
      "cell_type": "code",
      "source": [
        "# @title Загрузка базы знаний из видео Бизнес-марафона по ссылке в текстовом формате\n",
        "\n",
        "# Ссылка на базу знаний в текстовом формате\n",
        "text_db_link = 'https://docs.google.com/document/d/1m9VuLY8Sua1JRqcHh4dzEERmrbuaQw4DEDGZa5YA6K0/edit?usp=sharing' #@param string\n",
        "\n",
        "# Загрузка базы знаний\n",
        "BusinessMarathon_index_db = load_db('BusinessMarathon_index_db', 'https://', text_db_link, verbose=0)"
      ],
      "metadata": {
        "colab": {
          "base_uri": "https://localhost:8080/"
        },
        "outputId": "92327732-2af4-498f-8c5d-1253c7e39cc9",
        "cellView": "form",
        "id": "GfzC-LNmXIJv"
      },
      "execution_count": null,
      "outputs": [
        {
          "output_type": "stream",
          "name": "stdout",
          "text": [
            "По указанной ссылке векторной базы знаний нет.\n",
            "Invalid URL 'https://': No host supplied\n",
            "\n",
            "Идёт загрузка текстовой базы знаний...\n",
            "\n",
            "==================== \n",
            "Количество токенов в документе : 50737\n",
            "ЦЕНА запроса: 0.0050737  $\n",
            "==================== \n",
            "\n",
            "Загрузка текстовой базы знаний выполнена успешно.\n"
          ]
        }
      ]
    },
    {
      "cell_type": "code",
      "source": [
        "# Архивируем полученную базу знаний в векторном формате\n",
        "archive_db('BusinessMarathon_index_db', 'BusinessMarathon_index_db.zip', BusinessMarathon_index_db)"
      ],
      "metadata": {
        "colab": {
          "base_uri": "https://localhost:8080/"
        },
        "outputId": "7db10d10-f36d-4127-b247-69fed6da487b",
        "id": "HfD4Cm5zXMJW"
      },
      "execution_count": null,
      "outputs": [
        {
          "output_type": "stream",
          "name": "stdout",
          "text": [
            "Архив базы знаний создан! Имя файла: BusinessMarathon_index_db.zip.\n"
          ]
        }
      ]
    },
    {
      "cell_type": "markdown",
      "source": [
        "### YouTube"
      ],
      "metadata": {
        "id": "kF1AN6JCZedn"
      }
    },
    {
      "cell_type": "code",
      "source": [
        "# @title Загрузка базы знаний из видео на YouTube по ссылке в текстовом формате\n",
        "\n",
        "# Ссылка на базу знаний в текстовом формате\n",
        "text_db_link = 'https://docs.google.com/document/d/1Ri73WrvpAwBJO-voriz6tG-7xitcLQBwke8pAC8X3H0/edit?usp=sharing' #@param string\n",
        "\n",
        "# Загрузка базы знаний\n",
        "YouTube_index_db = load_db('YouTube_index_db', 'https://', text_db_link, verbose=0)"
      ],
      "metadata": {
        "colab": {
          "base_uri": "https://localhost:8080/"
        },
        "outputId": "bfa20901-0af1-42a8-fda1-04570d3a40b5",
        "cellView": "form",
        "id": "YKry5_xAZnFE"
      },
      "execution_count": null,
      "outputs": [
        {
          "output_type": "stream",
          "name": "stdout",
          "text": [
            "По указанной ссылке векторной базы знаний нет.\n",
            "Invalid URL 'https://': No host supplied\n",
            "\n",
            "Идёт загрузка текстовой базы знаний...\n",
            "\n",
            "==================== \n",
            "Количество токенов в документе : 356384\n",
            "ЦЕНА запроса: 0.0356384  $\n",
            "==================== \n",
            "\n",
            "Загрузка текстовой базы знаний выполнена успешно.\n"
          ]
        }
      ]
    },
    {
      "cell_type": "code",
      "source": [
        "# Архивируем полученную базу знаний в векторном формате\n",
        "archive_db('YouTube_index_db', 'YouTube_index_db.zip', YouTube_index_db)"
      ],
      "metadata": {
        "colab": {
          "base_uri": "https://localhost:8080/"
        },
        "outputId": "d6de123f-6b9f-4e2e-f752-e2f225f0473f",
        "id": "vOlLO0IZZpR3"
      },
      "execution_count": null,
      "outputs": [
        {
          "output_type": "stream",
          "name": "stdout",
          "text": [
            "Архив базы знаний создан! Имя файла: YouTube_index_db.zip.\n"
          ]
        }
      ]
    },
    {
      "cell_type": "markdown",
      "source": [
        "## Загрузка векторной базы знаний"
      ],
      "metadata": {
        "id": "__QOUYP3SaJx"
      }
    },
    {
      "cell_type": "code",
      "source": [
        "# Словарь ссылок на векторные базы\n",
        "index_db_links = {'All_index_db':              'https://github.com/terrainternship/GPT_Gavrilov_g/raw/main/knowledge_base/BASE_FAISS/faiss_db_db_data_from_all_data_txt.zip',\n",
        "                  'TelegramPosts_index_db':    'https://github.com/terrainternship/GPT_Gavrilov_g/raw/main/knowledge_base/BASE_FAISS/faiss_db_data_from_txt_telegram_channel.zip',\n",
        "                  'TelegramEther_index_db':    'https://github.com/terrainternship/GPT_Gavrilov_g/raw/main/knowledge_base/BASE_FAISS/faiss_db_data_from_txt_video_podcast_telegram.zip',\n",
        "                  'TelegramVideo_index_db':    'https://github.com/terrainternship/GPT_Gavrilov_g/raw/main/knowledge_base/BASE_FAISS/faiss_db_data_from_txt_video_telegram.zip',\n",
        "                  'BusinessMarathon_index_db': 'https://github.com/terrainternship/GPT_Gavrilov_g/raw/main/knowledge_base/BASE_FAISS/faiss_db_data_from_txt_video_training_marathon.zip',\n",
        "                  'YouTube_index_db':          'https://github.com/terrainternship/GPT_Gavrilov_g/raw/main/knowledge_base/BASE_FAISS/faiss_db_data_from_txt_youtobe.zip',\n",
        "                  'Platrum_index_db':          'https://github.com/terrainternship/GPT_Gavrilov_g/raw/main/knowledge_base/BASE_FAISS/faiss_db_db_data_from_txt_platrum.zip'}"
      ],
      "metadata": {
        "id": "wwepuPG3lpFR"
      },
      "execution_count": 8,
      "outputs": []
    },
    {
      "cell_type": "code",
      "source": [
        "# Загрузка векторной базы знаний\n",
        "index_db = load_selected_bases(index_db_links)"
      ],
      "metadata": {
        "colab": {
          "base_uri": "https://localhost:8080/"
        },
        "id": "WeRILNIFogAP",
        "outputId": "eee340e8-118d-4467-adf6-db6154d3d938"
      },
      "execution_count": null,
      "outputs": [
        {
          "output_type": "stream",
          "name": "stderr",
          "text": [
            " 17%|█▋        | 1/6 [00:01<00:05,  1.01s/it]"
          ]
        },
        {
          "output_type": "stream",
          "name": "stdout",
          "text": [
            "Загрузка векторной базы знаний выполнена успешно.\n"
          ]
        },
        {
          "output_type": "stream",
          "name": "stderr",
          "text": [
            "\r 33%|███▎      | 2/6 [00:01<00:03,  1.09it/s]"
          ]
        },
        {
          "output_type": "stream",
          "name": "stdout",
          "text": [
            "Загрузка векторной базы знаний выполнена успешно.\n"
          ]
        },
        {
          "output_type": "stream",
          "name": "stderr",
          "text": [
            "\r 50%|█████     | 3/6 [00:02<00:02,  1.18it/s]"
          ]
        },
        {
          "output_type": "stream",
          "name": "stdout",
          "text": [
            "Загрузка векторной базы знаний выполнена успешно.\n"
          ]
        },
        {
          "output_type": "stream",
          "name": "stderr",
          "text": [
            "\r 67%|██████▋   | 4/6 [00:03<00:01,  1.16it/s]"
          ]
        },
        {
          "output_type": "stream",
          "name": "stdout",
          "text": [
            "Загрузка векторной базы знаний выполнена успешно.\n"
          ]
        },
        {
          "output_type": "stream",
          "name": "stderr",
          "text": [
            "\r 83%|████████▎ | 5/6 [00:04<00:01,  1.01s/it]"
          ]
        },
        {
          "output_type": "stream",
          "name": "stdout",
          "text": [
            "Загрузка векторной базы знаний выполнена успешно.\n"
          ]
        },
        {
          "output_type": "stream",
          "name": "stderr",
          "text": [
            "100%|██████████| 6/6 [00:06<00:00,  1.09s/it]"
          ]
        },
        {
          "output_type": "stream",
          "name": "stdout",
          "text": [
            "Загрузка векторной базы знаний выполнена успешно.\n"
          ]
        },
        {
          "output_type": "stream",
          "name": "stderr",
          "text": [
            "\n"
          ]
        }
      ]
    },
    {
      "cell_type": "code",
      "source": [
        "# Загрузка векторной базы знаний\n",
        "index_db = load_selected_bases(index_db_links, ['All_index_db'])"
      ],
      "metadata": {
        "colab": {
          "base_uri": "https://localhost:8080/"
        },
        "id": "nLzq-3d1o7dE",
        "outputId": "cdd108a2-f5d0-4565-8060-ae40c099232a"
      },
      "execution_count": 9,
      "outputs": [
        {
          "output_type": "stream",
          "name": "stderr",
          "text": [
            "100%|██████████| 1/1 [00:01<00:00,  1.81s/it]"
          ]
        },
        {
          "output_type": "stream",
          "name": "stdout",
          "text": [
            "Загрузка векторной базы знаний выполнена успешно.\n"
          ]
        },
        {
          "output_type": "stream",
          "name": "stderr",
          "text": [
            "\n"
          ]
        }
      ]
    },
    {
      "cell_type": "markdown",
      "source": [
        "## Тестирование вопросов"
      ],
      "metadata": {
        "id": "BXqoTnOrPLvK"
      }
    },
    {
      "cell_type": "code",
      "source": [
        "auth.authenticate_user()      # аутентифицируем текущего пользователя Colab\n",
        "creds, _ = default()          # создаём объект учётных данных на основе аутентификации\n",
        "gc = gspread.authorize(creds) # создаём клиента для таблиц на основе учётных данных"
      ],
      "metadata": {
        "id": "9s_Nk9OLP5R3"
      },
      "execution_count": 10,
      "outputs": []
    },
    {
      "cell_type": "code",
      "source": [
        "url_table = 'https://docs.google.com/spreadsheets/d/13Z73lWK8bnOHtHnY9ChaUeou-b9unryV4JP87cKJuS4/edit?usp=sharing' #@param string"
      ],
      "metadata": {
        "id": "iIMzsP_R8L-g"
      },
      "execution_count": 11,
      "outputs": []
    },
    {
      "cell_type": "code",
      "source": [
        "g = ChatSheetQuestions(url_table, gc)"
      ],
      "metadata": {
        "colab": {
          "base_uri": "https://localhost:8080/"
        },
        "id": "7GvJpILS9E06",
        "outputId": "3b6d5381-e261-4204-dcb8-e43e44c22a43"
      },
      "execution_count": 12,
      "outputs": [
        {
          "output_type": "stream",
          "name": "stdout",
          "text": [
            "Подключились к документу - Тестирование БЗ German Gavrilov\n",
            "\n",
            "Страницы документа:\n",
            "-------------------\n",
            "0. Стажёры\n",
            "1. Аникеев\n",
            "2. Чижов\n",
            "3. Лучников\n"
          ]
        }
      ]
    },
    {
      "cell_type": "markdown",
      "source": [
        "### Тестирование вопросов от Владислава Чижова"
      ],
      "metadata": {
        "id": "RZAm8LwaPyDP"
      }
    },
    {
      "cell_type": "code",
      "source": [
        "MODEL_GPT = 'gpt-3.5-turbo-1106' # @param ['gpt-3.5-turbo-1106', 'gpt-4-1106-preview']\n",
        "top_documents = 8                # @param {type:'integer'} # Количество отобранных чанков\n",
        "temperature = 0                  # @param float            # Вариативность ответа\n",
        "limit_score = 0                  # @param float            # Отфильтровывать чанки при поиске выше этого значения, если '0' - не фильтровать\n",
        "question_norma = False           # @param {type:'boolean'} # Нормализовать вопрос - Удаляет лишние пробелы из вопроса\n",
        "max_characters = 4096            # @param {type:'integer'}\n",
        "max_tokens = 2048                # @param {type:'integer'}\n",
        "url_prompt = 'https://raw.githubusercontent.com/terrainternship/GPT_Gavrilov_g/main/tgbot_alex/settings/system_prompt.txt' # @param {type:'string'}\n",
        "chat_prompt = load_file(url_prompt).format(max_tokens = max_tokens, max_characters = max_characters)"
      ],
      "metadata": {
        "id": "vNcLQ9VZmpcV"
      },
      "execution_count": 13,
      "outputs": []
    },
    {
      "cell_type": "code",
      "source": [
        "g.chat_prompt = chat_prompt\n",
        "g.top_documents = top_documents\n",
        "g.temperature = temperature\n",
        "g.limit_score = limit_score\n",
        "g.question_norma = question_norma\n",
        "g.index_db = index_db\n",
        "g.gpt_model = MODEL_GPT\n",
        "g.SELECT_MODEL_GPT = MODEL_COST[g.gpt_model]\n",
        "g.select_sheet(2)"
      ],
      "metadata": {
        "colab": {
          "base_uri": "https://localhost:8080/"
        },
        "id": "j7VCq2RJW4y0",
        "outputId": "ed02268e-b4e1-47c9-f57b-48a2a511eb39"
      },
      "execution_count": 14,
      "outputs": [
        {
          "output_type": "stream",
          "name": "stdout",
          "text": [
            "Текущая страница - \"Чижов\"\n",
            "\n",
            "-----№---------Название---\n",
            "Колонка №1  Вопрос\n",
            "Колонка №2  Ответ GPT\n",
            "Колонка №3  Оценка\n",
            "Колонка №4  Комментарий\n",
            "Колонка №5  Ошибка\n",
            "Колонка №6  Модель GPT\n",
            "Колонка №7  Промпт\n",
            "Колонка №8  Чанк №1\n",
            "Колонка №9  Чанк №2\n",
            "Колонка №10 Чанк №3\n",
            "Колонка №11 Чанк №4\n",
            "Колонка №12 Чанк №5\n",
            "Колонка №13 Чанк №6\n",
            "Колонка №14 Чанк №7\n",
            "Колонка №15 Чанк №8\n"
          ]
        }
      ]
    },
    {
      "cell_type": "code",
      "source": [
        "# @title Промпт\n",
        "g.chat_prompt"
      ],
      "metadata": {
        "colab": {
          "base_uri": "https://localhost:8080/",
          "height": 140
        },
        "id": "ak0fRvVH-wtz",
        "outputId": "57d2bdfb-e155-4413-a994-4118574e0a1e",
        "cellView": "form"
      },
      "execution_count": 15,
      "outputs": [
        {
          "output_type": "execute_result",
          "data": {
            "text/plain": [
              "'# Основные инструкции\\nТы консультант по вопросам, связанным с систематизацией бизнеса и деятельностью Германа Гаврилова, основывайся исключительно на информации, представленной в данном документе и текущем диалоге с клиентом. Не добавляй никакой информации из других источников и не используй внешние данные. Строго придерживайся только тех данных, которые содержатся в документе и текущем диалоге. Не упоминай клиенту о наличии документа с информацией и не давай понять, что твои ответы основаны на этом документе. Если информации в предоставленном документе и текущем диалоге недостаточно для ответа на вопрос клиента, сообщи об этом прямо, не пытаясь дополнять ответ внешними данными. Твоя задача - предоставлять точные и конкретные ответы, основанные исключительно на представленных данных. Если запрос клиента выходит за рамки тематики бизнес-систематизации или данных, содержащихся в диалоге и документе, объясни это клиенту, указав на отсутствие необходимой информации для ответа. Следуй инструкциям буквально и не предпринимай попыток интерпретировать или дополнять запросы клиента за рамками заданных критериев. Твоя главная цель - предоставить клиенту информацию, которая строго соответствует его запросам, опираясь на представленный контекст и документацию.\\nБудь доброжелателен вежлив и приветлив в начале диалога и в конце диалога, при начале диалога спрашивай имя пользователя, при завершении диалога прощайся.\\nДля ответа используй не больше 2048 токенов и 4096 символов.\\n# Основная информация\\nГаврилов Герман Александрович — бизнесмен, коуч и основатель сервисов аналитики и автоматизации бизнес-процессов Roistat и Platrum.\\nПредоставляемый документ содержит высказывания Германа Гаврилова.\\n'"
            ],
            "application/vnd.google.colaboratory.intrinsic+json": {
              "type": "string"
            }
          },
          "metadata": {},
          "execution_count": 15
        }
      ]
    },
    {
      "cell_type": "code",
      "source": [
        "# @title Загрузка вопросов\n",
        "g.load_sheet()"
      ],
      "metadata": {
        "colab": {
          "base_uri": "https://localhost:8080/"
        },
        "id": "idT5EXR0-1W6",
        "outputId": "22633b4d-b2b1-494b-9b58-02b21e002ed4",
        "cellView": "form"
      },
      "execution_count": 16,
      "outputs": [
        {
          "output_type": "stream",
          "name": "stdout",
          "text": [
            "\n",
            "\n",
            "Загрузка списка вопросов завершена. Количество вопросов: 181.\n",
            "Диапазон номеров строк с вопросами (включительно): [2:182].\n"
          ]
        }
      ]
    },
    {
      "cell_type": "code",
      "source": [
        "# @title Выбор диапазона вопросов группого запроса. Отправка запроса. { vertical-output: false }\n",
        "\n",
        "# Определение диапазона строк с вопросами. Начало диапазона, конец диапазона (включительно).\n",
        "row_first = 2      # @param {type:'integer'}\n",
        "row_end = 2        # @param {type:'integer'}\n",
        "verbose_answer = 0 # @param {type:'integer'}\n",
        "verbose_chank = 0  # @param {type:'integer'}\n",
        "g.execute(row_first, row_end, verbose_answer, verbose_chank)"
      ],
      "metadata": {
        "colab": {
          "base_uri": "https://localhost:8080/"
        },
        "id": "fbRiPvvg_BLb",
        "outputId": "7ccc702e-8e5b-48c1-9ead-e40e3117b541",
        "cellView": "form"
      },
      "execution_count": null,
      "outputs": [
        {
          "output_type": "stream",
          "name": "stdout",
          "text": [
            "Строка №2. Ответ на вопрос получен за - 4.528 сек.\n",
            "Строка №2. Ответ записан в файл.\n",
            "\n",
            "-------------------------------------------\n",
            "Вопросов в пакетной обработке - 1 шт.\n",
            "Время пакетной обработки      - 5.9 сек.\n",
            "Стоимость пакетной обработки  - 0.0075 $.\n",
            "Токенов в пакетной обработке  - 7322 шт.\n"
          ]
        }
      ]
    },
    {
      "cell_type": "code",
      "source": [
        "# @title Выбор диапазона вопросов группого запроса. Отправка запроса. { vertical-output: false }\n",
        "\n",
        "# Определение диапазона строк с вопросами. Начало диапазона, конец диапазона (включительно).\n",
        "row_first = 3      # @param {type:'integer'}\n",
        "row_end = 3        # @param {type:'integer'}\n",
        "verbose_answer = 0 # @param {type:'integer'}\n",
        "verbose_chank = 0  # @param {type:'integer'}\n",
        "g.execute(row_first, row_end, verbose_answer, verbose_chank)"
      ],
      "metadata": {
        "colab": {
          "base_uri": "https://localhost:8080/"
        },
        "outputId": "758591c0-89c9-43a2-bb7b-1e03cbb03e68",
        "cellView": "form",
        "id": "Haz7KmM654ij"
      },
      "execution_count": null,
      "outputs": [
        {
          "output_type": "stream",
          "name": "stdout",
          "text": [
            "Строка №3. Ответ на вопрос получен за - 9.045 сек.\n",
            "Строка №3. Ответ записан в файл.\n",
            "\n",
            "-------------------------------------------\n",
            "Вопросов в пакетной обработке - 1 шт.\n",
            "Время пакетной обработки      - 12.3 сек.\n",
            "Стоимость пакетной обработки  - 0.0081 $.\n",
            "Токенов в пакетной обработке  - 7958 шт.\n"
          ]
        }
      ]
    },
    {
      "cell_type": "code",
      "source": [
        "# @title Выбор диапазона вопросов группого запроса. Отправка запроса. { vertical-output: false }\n",
        "\n",
        "# Определение диапазона строк с вопросами. Начало диапазона, конец диапазона (включительно).\n",
        "row_first = 4      # @param {type:'integer'}\n",
        "row_end = 4        # @param {type:'integer'}\n",
        "verbose_answer = 0 # @param {type:'integer'}\n",
        "verbose_chank = 0  # @param {type:'integer'}\n",
        "g.execute(row_first, row_end, verbose_answer, verbose_chank)"
      ],
      "metadata": {
        "colab": {
          "base_uri": "https://localhost:8080/"
        },
        "outputId": "66105df9-4b29-4152-f784-c7ea97e85c7c",
        "cellView": "form",
        "id": "W4vO7aKZT9B5"
      },
      "execution_count": null,
      "outputs": [
        {
          "output_type": "stream",
          "name": "stdout",
          "text": [
            "Строка №4. Ответ на вопрос получен за - 7.228 сек.\n",
            "Строка №4. Ответ записан в файл.\n",
            "\n",
            "-------------------------------------------\n",
            "Вопросов в пакетной обработке - 1 шт.\n",
            "Время пакетной обработки      - 10.1 сек.\n",
            "Стоимость пакетной обработки  - 0.0071 $.\n",
            "Токенов в пакетной обработке  - 6897 шт.\n"
          ]
        }
      ]
    },
    {
      "cell_type": "code",
      "source": [
        "# @title Выбор диапазона вопросов группого запроса. Отправка запроса. { vertical-output: false }\n",
        "\n",
        "# Определение диапазона строк с вопросами. Начало диапазона, конец диапазона (включительно).\n",
        "row_first = 5      # @param {type:'integer'}\n",
        "row_end = 181        # @param {type:'integer'}\n",
        "verbose_answer = 0 # @param {type:'integer'}\n",
        "verbose_chank = 0  # @param {type:'integer'}\n",
        "g.execute(row_first, row_end, verbose_answer, verbose_chank)"
      ],
      "metadata": {
        "colab": {
          "base_uri": "https://localhost:8080/"
        },
        "outputId": "1ef520c5-2dc7-4ccc-da86-8d09d25a8b7f",
        "cellView": "form",
        "id": "Hc192tpHfddx"
      },
      "execution_count": 18,
      "outputs": [
        {
          "output_type": "stream",
          "name": "stdout",
          "text": [
            "Строка №5. Ответ на вопрос получен за - 9.582 сек.\n",
            "Строка №5. Ответ записан в файл.\n",
            "Строка №6. Ответ на вопрос получен за - 6.745 сек.\n",
            "Строка №6. Ответ записан в файл.\n",
            "Строка №7. Ответ на вопрос получен за - 6.055 сек.\n",
            "Строка №7. Ответ записан в файл.\n",
            "Строка №8. Ответ на вопрос получен за - 5.995 сек.\n",
            "Строка №8. Ответ записан в файл.\n",
            "Строка №9. Ответ на вопрос получен за - 11.915 сек.\n",
            "Строка №9. Ответ записан в файл.\n",
            "Строка №10. Ответ на вопрос получен за - 6.214 сек.\n",
            "Строка №10. Ответ записан в файл.\n",
            "Строка №11. Ответ на вопрос получен за - 10.047 сек.\n",
            "Строка №11. Ответ записан в файл.\n",
            "Строка №12. Ответ на вопрос получен за - 15.291 сек.\n",
            "Строка №12. Ответ записан в файл.\n",
            "Строка №13. Ответ на вопрос получен за - 10.204 сек.\n",
            "Строка №13. Ответ записан в файл.\n",
            "Строка №14. Ответ на вопрос получен за - 8.037 сек.\n",
            "Строка №14. Ответ записан в файл.\n",
            "Строка №15. Ответ на вопрос получен за - 8.121 сек.\n",
            "Строка №15. Ответ записан в файл.\n",
            "Строка №16. Ответ на вопрос получен за - 7.888 сек.\n",
            "Строка №16. Ответ записан в файл.\n",
            "Строка №17. Ответ на вопрос получен за - 7.711 сек.\n",
            "Строка №17. Ответ записан в файл.\n",
            "Строка №18. Ответ на вопрос получен за - 8.454 сек.\n",
            "Строка №18. Ответ записан в файл.\n",
            "Строка №19. Ответ на вопрос получен за - 15.917 сек.\n",
            "Строка №19. Ответ записан в файл.\n",
            "Строка №20. Ответ на вопрос получен за - 7.583 сек.\n",
            "Строка №20. Ответ записан в файл.\n",
            "Строка №21. Ответ на вопрос получен за - 12.704 сек.\n",
            "Строка №21. Ответ записан в файл.\n",
            "Строка №22. Ответ на вопрос получен за - 10.694 сек.\n",
            "Строка №22. Ответ записан в файл.\n",
            "Строка №23. Ответ на вопрос получен за - 9.116 сек.\n",
            "Строка №23. Ответ записан в файл.\n",
            "Строка №24. Ответ на вопрос получен за - 10.751 сек.\n",
            "Строка №24. Ответ записан в файл.\n",
            "Строка №25. Ответ на вопрос получен за - 11.449 сек.\n",
            "Строка №25. Ответ записан в файл.\n",
            "Строка №26. Ответ на вопрос получен за - 14.388 сек.\n",
            "Строка №26. Ответ записан в файл.\n",
            "Строка №27. Ответ на вопрос получен за - 15.633 сек.\n",
            "Строка №27. Ответ записан в файл.\n",
            "Строка №28. Ответ на вопрос получен за - 11.843 сек.\n",
            "Строка №28. Ответ записан в файл.\n",
            "Строка №29. Ответ на вопрос получен за - 11.3 сек.\n",
            "Строка №29. Ответ записан в файл.\n",
            "Строка №30. Ответ на вопрос получен за - 6.236 сек.\n",
            "Строка №30. Ответ записан в файл.\n",
            "Строка №31. Ответ на вопрос получен за - 10.176 сек.\n",
            "Строка №31. Ответ записан в файл.\n",
            "Строка №32. Ответ на вопрос получен за - 8.008 сек.\n",
            "Строка №32. Ответ записан в файл.\n",
            "Строка №33. Ответ на вопрос получен за - 7.248 сек.\n",
            "Строка №33. Ответ записан в файл.\n",
            "Строка №34. Ответ на вопрос получен за - 16.986 сек.\n",
            "Строка №34. Ответ записан в файл.\n",
            "Строка №35. Ответ на вопрос получен за - 13.697 сек.\n",
            "Строка №35. Ответ записан в файл.\n",
            "Строка №36. Ответ на вопрос получен за - 15.649 сек.\n",
            "Строка №36. Ответ записан в файл.\n",
            "Строка №37. Ответ на вопрос получен за - 7.318 сек.\n",
            "Строка №37. Ответ записан в файл.\n",
            "Строка №38. Ответ на вопрос получен за - 9.872 сек.\n",
            "Строка №38. Ответ записан в файл.\n",
            "Строка №39. Ответ на вопрос получен за - 5.538 сек.\n",
            "Строка №39. Ответ записан в файл.\n",
            "Строка №40. Ответ на вопрос получен за - 7.392 сек.\n",
            "Строка №40. Ответ записан в файл.\n",
            "Строка №41. Ответ на вопрос получен за - 14.761 сек.\n",
            "Строка №41. Ответ записан в файл.\n",
            "Строка №42. Ответ на вопрос получен за - 16.543 сек.\n",
            "Строка №42. Ответ записан в файл.\n",
            "Строка №43. Ответ на вопрос получен за - 12.836 сек.\n",
            "Строка №43. Ответ записан в файл.\n",
            "Строка №44. Ответ на вопрос получен за - 5.753 сек.\n",
            "Строка №44. Ответ записан в файл.\n",
            "Строка №45. Ответ на вопрос получен за - 7.912 сек.\n",
            "Строка №45. Ответ записан в файл.\n",
            "Строка №46. Ответ на вопрос получен за - 17.603 сек.\n",
            "Строка №46. Ответ записан в файл.\n",
            "Строка №47. Ответ на вопрос получен за - 7.074 сек.\n",
            "Строка №47. Ответ записан в файл.\n",
            "Строка №48. Ответ на вопрос получен за - 22.545 сек.\n",
            "Строка №48. Ответ записан в файл.\n",
            "Строка №49. Ответ на вопрос получен за - 6.755 сек.\n",
            "Строка №49. Ответ записан в файл.\n",
            "Строка №50. Ответ на вопрос получен за - 11.837 сек.\n",
            "Строка №50. Ответ записан в файл.\n",
            "Строка №51. Ответ на вопрос получен за - 17.96 сек.\n",
            "Строка №51. Ответ записан в файл.\n",
            "Строка №52. Ответ на вопрос получен за - 8.814 сек.\n",
            "Строка №52. Ответ записан в файл.\n",
            "Строка №53. Ответ на вопрос получен за - 6.413 сек.\n",
            "Строка №53. Ответ записан в файл.\n",
            "Строка №54. Ответ на вопрос получен за - 3.916 сек.\n",
            "Строка №54. Ответ записан в файл.\n",
            "Строка №55. Ответ на вопрос получен за - 19.475 сек.\n",
            "Строка №55. Ответ записан в файл.\n",
            "Строка №56. Ответ на вопрос получен за - 20.254 сек.\n",
            "Строка №56. Ответ записан в файл.\n",
            "Строка №57. Ответ на вопрос получен за - 22.939 сек.\n",
            "Строка №57. Ответ записан в файл.\n",
            "Строка №58. Ответ на вопрос получен за - 10.718 сек.\n",
            "Строка №58. Ответ записан в файл.\n",
            "Строка №59. Ответ на вопрос получен за - 19.3 сек.\n",
            "Строка №59. Ответ записан в файл.\n",
            "Строка №60. Ответ на вопрос получен за - 13.944 сек.\n",
            "Строка №60. Ответ записан в файл.\n",
            "Строка №61. Ответ на вопрос получен за - 9.006 сек.\n",
            "Строка №61. Ответ записан в файл.\n",
            "Строка №62. Ответ на вопрос получен за - 11.647 сек.\n",
            "Строка №62. Ответ записан в файл.\n",
            "Строка №63. Ответ на вопрос получен за - 11.951 сек.\n",
            "Строка №63. Ответ записан в файл.\n",
            "Строка №64. Ответ на вопрос получен за - 6.506 сек.\n",
            "Строка №64. Ответ записан в файл.\n",
            "Строка №65. Ответ на вопрос получен за - 8.065 сек.\n",
            "Строка №65. Ответ записан в файл.\n",
            "Строка №66. Ответ на вопрос получен за - 11.227 сек.\n",
            "Строка №66. Ответ записан в файл.\n",
            "Строка №67. Ответ на вопрос получен за - 10.534 сек.\n",
            "Строка №67. Ответ записан в файл.\n",
            "Строка №68. Ответ на вопрос получен за - 8.046 сек.\n",
            "Строка №68. Ответ записан в файл.\n",
            "Строка №69. Ответ на вопрос получен за - 7.327 сек.\n",
            "Строка №69. Ответ записан в файл.\n",
            "Строка №70. Ответ на вопрос получен за - 18.024 сек.\n",
            "Строка №70. Ответ записан в файл.\n",
            "Строка №71. Ответ на вопрос получен за - 11.743 сек.\n",
            "Строка №71. Ответ записан в файл.\n",
            "Строка №72. Ответ на вопрос получен за - 6.654 сек.\n",
            "Строка №72. Ответ записан в файл.\n",
            "Строка №73. Ответ на вопрос получен за - 16.453 сек.\n",
            "Строка №73. Ответ записан в файл.\n",
            "Строка №74. Ответ на вопрос получен за - 20.026 сек.\n",
            "Строка №74. Ответ записан в файл.\n",
            "Строка №75. Ответ на вопрос получен за - 14.976 сек.\n",
            "Строка №75. Ответ записан в файл.\n",
            "Строка №76. Ответ на вопрос получен за - 14.033 сек.\n",
            "Строка №76. Ответ записан в файл.\n",
            "Строка №77. Ответ на вопрос получен за - 13.829 сек.\n",
            "Строка №77. Ответ записан в файл.\n",
            "Строка №78. Ответ на вопрос получен за - 15.946 сек.\n",
            "Строка №78. Ответ записан в файл.\n",
            "Строка №79. Ответ на вопрос получен за - 10.3 сек.\n",
            "Строка №79. Ответ записан в файл.\n",
            "Строка №80. Ответ на вопрос получен за - 13.098 сек.\n",
            "Строка №80. Ответ записан в файл.\n",
            "Строка №81. Ответ на вопрос получен за - 7.037 сек.\n",
            "Строка №81. Ответ записан в файл.\n",
            "Строка №82. Ответ на вопрос получен за - 11.094 сек.\n",
            "Строка №82. Ответ записан в файл.\n",
            "Строка №83. Ответ на вопрос получен за - 8.904 сек.\n",
            "Строка №83. Ответ записан в файл.\n",
            "Строка №84. Ответ на вопрос получен за - 8.163 сек.\n",
            "Строка №84. Ответ записан в файл.\n",
            "Строка №85. Ответ на вопрос получен за - 18.145 сек.\n",
            "Строка №85. Ответ записан в файл.\n",
            "Строка №86. Ответ на вопрос получен за - 7.103 сек.\n",
            "Строка №86. Ответ записан в файл.\n",
            "Строка №87. Ответ на вопрос получен за - 5.709 сек.\n",
            "Строка №87. Ответ записан в файл.\n",
            "Строка №88. Ответ на вопрос получен за - 8.304 сек.\n",
            "Строка №88. Ответ записан в файл.\n",
            "Строка №89. Ответ на вопрос получен за - 8.883 сек.\n",
            "Строка №89. Ответ записан в файл.\n",
            "Строка №90. Ответ на вопрос получен за - 17.361 сек.\n",
            "Строка №90. Ответ записан в файл.\n",
            "Строка №91. Ответ на вопрос получен за - 10.28 сек.\n",
            "Строка №91. Ответ записан в файл.\n",
            "Строка №92. Ответ на вопрос получен за - 10.627 сек.\n",
            "Строка №92. Ответ записан в файл.\n",
            "Строка №93. Ответ на вопрос получен за - 9.179 сек.\n",
            "Строка №93. Ответ записан в файл.\n",
            "Строка №94. Ответ на вопрос получен за - 12.463 сек.\n",
            "Строка №94. Ответ записан в файл.\n",
            "Строка №95. Ответ на вопрос получен за - 12.727 сек.\n",
            "Строка №95. Ответ записан в файл.\n",
            "Строка №96. Ответ на вопрос получен за - 12.963 сек.\n",
            "Строка №96. Ответ записан в файл.\n",
            "Строка №97. Ответ на вопрос получен за - 29.454 сек.\n",
            "Строка №97. Ответ записан в файл.\n",
            "Строка №98. Ответ на вопрос получен за - 9.169 сек.\n",
            "Строка №98. Ответ записан в файл.\n",
            "Строка №99. Ответ на вопрос получен за - 13.602 сек.\n",
            "Строка №99. Ответ записан в файл.\n",
            "Строка №100. Ответ на вопрос получен за - 16.801 сек.\n",
            "Строка №100. Ответ записан в файл.\n",
            "Строка №101. Ответ на вопрос получен за - 14.353 сек.\n",
            "Строка №101. Ответ записан в файл.\n",
            "Строка №102. Ответ на вопрос получен за - 16.048 сек.\n",
            "Строка №102. Ответ записан в файл.\n",
            "Строка №103. Ответ на вопрос получен за - 4.436 сек.\n",
            "Строка №103. Ответ записан в файл.\n",
            "Строка №104. Ответ на вопрос получен за - 2.24 сек.\n",
            "Строка №104. Ответ записан в файл.\n",
            "Строка №105. Ответ на вопрос получен за - 7.238 сек.\n",
            "Строка №105. Ответ записан в файл.\n",
            "Строка №106. Ответ на вопрос получен за - 11.381 сек.\n",
            "Строка №106. Ответ записан в файл.\n",
            "Строка №107. Ответ на вопрос получен за - 8.56 сек.\n",
            "Строка №107. Ответ записан в файл.\n",
            "Строка №108. Ответ на вопрос получен за - 7.274 сек.\n",
            "Строка №108. Ответ записан в файл.\n",
            "Строка №109. Ответ на вопрос получен за - 10.053 сек.\n",
            "Строка №109. Ответ записан в файл.\n",
            "Строка №110. Ответ на вопрос получен за - 12.295 сек.\n",
            "Строка №110. Ответ записан в файл.\n",
            "Строка №111. Ответ на вопрос получен за - 19.627 сек.\n",
            "Строка №111. Ответ записан в файл.\n",
            "Строка №112. Ответ на вопрос получен за - 5.968 сек.\n",
            "Строка №112. Ответ записан в файл.\n",
            "Строка №113. Ответ на вопрос получен за - 7.058 сек.\n",
            "Строка №113. Ответ записан в файл.\n",
            "Строка №114. Ответ на вопрос получен за - 4.183 сек.\n",
            "Строка №114. Ответ записан в файл.\n",
            "Строка №115. Ответ на вопрос получен за - 8.073 сек.\n",
            "Строка №115. Ответ записан в файл.\n",
            "Строка №116. Ответ на вопрос получен за - 4.531 сек.\n",
            "Строка №116. Ответ записан в файл.\n",
            "Строка №117. Ответ на вопрос получен за - 6.763 сек.\n",
            "Строка №117. Ответ записан в файл.\n",
            "Строка №118. Ответ на вопрос получен за - 17.384 сек.\n",
            "Строка №118. Ответ записан в файл.\n",
            "Строка №119. Ответ на вопрос получен за - 9.878 сек.\n",
            "Строка №119. Ответ записан в файл.\n",
            "Строка №120. Ответ на вопрос получен за - 7.574 сек.\n",
            "Строка №120. Ответ записан в файл.\n",
            "Строка №121. Ответ на вопрос получен за - 6.506 сек.\n",
            "Строка №121. Ответ записан в файл.\n",
            "Строка №122. Ответ на вопрос получен за - 5.042 сек.\n",
            "Строка №122. Ответ записан в файл.\n",
            "Строка №123. Ответ на вопрос получен за - 7.531 сек.\n",
            "Строка №123. Ответ записан в файл.\n",
            "Строка №124. Ответ на вопрос получен за - 10.754 сек.\n",
            "Строка №124. Ответ записан в файл.\n",
            "Строка №125. Ответ на вопрос получен за - 8.989 сек.\n",
            "Строка №125. Ответ записан в файл.\n",
            "Строка №126. Ответ на вопрос получен за - 11.011 сек.\n",
            "Строка №126. Ответ записан в файл.\n",
            "Строка №127. Ответ на вопрос получен за - 15.498 сек.\n",
            "Строка №127. Ответ записан в файл.\n",
            "Строка №128. Ответ на вопрос получен за - 9.94 сек.\n",
            "Строка №128. Ответ записан в файл.\n",
            "Строка №129. Ответ на вопрос получен за - 12.489 сек.\n",
            "Строка №129. Ответ записан в файл.\n",
            "Строка №130. Ответ на вопрос получен за - 14.736 сек.\n",
            "Строка №130. Ответ записан в файл.\n",
            "Строка №131. Ответ на вопрос получен за - 7.734 сек.\n",
            "Строка №131. Ответ записан в файл.\n",
            "Строка №132. Ответ на вопрос получен за - 7.46 сек.\n",
            "Строка №132. Ответ записан в файл.\n",
            "Строка №133. Ответ на вопрос получен за - 8.952 сек.\n",
            "Строка №133. Ответ записан в файл.\n",
            "Строка №134. Ответ на вопрос получен за - 12.507 сек.\n",
            "Строка №134. Ответ записан в файл.\n",
            "Строка №135. Ответ на вопрос получен за - 10.044 сек.\n",
            "Строка №135. Ответ записан в файл.\n",
            "Строка №136. Ответ на вопрос получен за - 10.241 сек.\n",
            "Строка №136. Ответ записан в файл.\n",
            "Строка №137. Ответ на вопрос получен за - 4.663 сек.\n",
            "Строка №137. Ответ записан в файл.\n",
            "Строка №138. Ответ на вопрос получен за - 7.809 сек.\n",
            "Строка №138. Ответ записан в файл.\n",
            "Строка №139. Ответ на вопрос получен за - 6.907 сек.\n",
            "Строка №139. Ответ записан в файл.\n",
            "Строка №140. Ответ на вопрос получен за - 7.875 сек.\n",
            "Строка №140. Ответ записан в файл.\n",
            "Строка №141. Ответ на вопрос получен за - 11.925 сек.\n",
            "Строка №141. Ответ записан в файл.\n",
            "Строка №142. Ответ на вопрос получен за - 8.434 сек.\n",
            "Строка №142. Ответ записан в файл.\n",
            "Строка №143. Ответ на вопрос получен за - 8.236 сек.\n",
            "Строка №143. Ответ записан в файл.\n",
            "Строка №144. Ответ на вопрос получен за - 7.092 сек.\n",
            "Строка №144. Ответ записан в файл.\n",
            "Строка №145. Ответ на вопрос получен за - 39.295 сек.\n",
            "Строка №145. Ответ записан в файл.\n",
            "Строка №146. Ответ на вопрос получен за - 6.315 сек.\n",
            "Строка №146. Ответ записан в файл.\n",
            "Строка №147. Ответ на вопрос получен за - 16.774 сек.\n",
            "Строка №147. Ответ записан в файл.\n",
            "Строка №148. Ответ на вопрос получен за - 10.0 сек.\n",
            "Строка №148. Ответ записан в файл.\n",
            "Строка №149. Ответ на вопрос получен за - 10.858 сек.\n",
            "Строка №149. Ответ записан в файл.\n",
            "Строка №150. Ответ на вопрос получен за - 14.995 сек.\n",
            "Строка №150. Ответ записан в файл.\n",
            "Строка №151. Ответ на вопрос получен за - 12.011 сек.\n",
            "Строка №151. Ответ записан в файл.\n",
            "Строка №152. Ответ на вопрос получен за - 11.957 сек.\n",
            "Строка №152. Ответ записан в файл.\n",
            "Строка №153. Ответ на вопрос получен за - 9.336 сек.\n",
            "Строка №153. Ответ записан в файл.\n",
            "Строка №154. Ответ на вопрос получен за - 4.261 сек.\n",
            "Строка №154. Ответ записан в файл.\n",
            "Строка №155. Ответ на вопрос получен за - 16.473 сек.\n",
            "Строка №155. Ответ записан в файл.\n",
            "Строка №156. Ответ на вопрос получен за - 6.097 сек.\n",
            "Строка №156. Ответ записан в файл.\n",
            "Строка №157. Ответ на вопрос получен за - 16.833 сек.\n",
            "Строка №157. Ответ записан в файл.\n",
            "Строка №158. Ответ на вопрос получен за - 9.911 сек.\n",
            "Строка №158. Ответ записан в файл.\n",
            "Строка №159. Ответ на вопрос получен за - 12.94 сек.\n",
            "Строка №159. Ответ записан в файл.\n",
            "Строка №160. Ответ на вопрос получен за - 2.63 сек.\n",
            "Строка №160. Ответ записан в файл.\n",
            "Строка №161. Ответ на вопрос получен за - 10.944 сек.\n",
            "Строка №161. Ответ записан в файл.\n",
            "Строка №162. Ответ на вопрос получен за - 8.741 сек.\n",
            "Строка №162. Ответ записан в файл.\n",
            "Строка №163. Ответ на вопрос получен за - 6.879 сек.\n",
            "Строка №163. Ответ записан в файл.\n",
            "Строка №164. Ответ на вопрос получен за - 6.803 сек.\n",
            "Строка №164. Ответ записан в файл.\n",
            "Строка №165. Ответ на вопрос получен за - 18.344 сек.\n",
            "Строка №165. Ответ записан в файл.\n",
            "Строка №166. Ответ на вопрос получен за - 13.15 сек.\n",
            "Строка №166. Ответ записан в файл.\n",
            "Строка №167. Ответ на вопрос получен за - 9.351 сек.\n",
            "Строка №167. Ответ записан в файл.\n",
            "Строка №168. Ответ на вопрос получен за - 11.607 сек.\n",
            "Строка №168. Ответ записан в файл.\n",
            "Строка №169. Ответ на вопрос получен за - 11.65 сек.\n",
            "Строка №169. Ответ записан в файл.\n",
            "Строка №170. Ответ на вопрос получен за - 12.694 сек.\n",
            "Строка №170. Ответ записан в файл.\n",
            "Строка №171. Ответ на вопрос получен за - 19.032 сек.\n",
            "Строка №171. Ответ записан в файл.\n",
            "Строка №172. Ответ на вопрос получен за - 8.644 сек.\n",
            "Строка №172. Ответ записан в файл.\n",
            "Строка №173. Ответ на вопрос получен за - 8.76 сек.\n",
            "Строка №173. Ответ записан в файл.\n",
            "Строка №174. Ответ на вопрос получен за - 10.667 сек.\n",
            "Строка №174. Ответ записан в файл.\n",
            "Строка №175. Ответ на вопрос получен за - 10.849 сек.\n",
            "Строка №175. Ответ записан в файл.\n",
            "Строка №176. Ответ на вопрос получен за - 10.729 сек.\n",
            "Строка №176. Ответ записан в файл.\n",
            "Строка №177. Ответ на вопрос получен за - 10.513 сек.\n",
            "Строка №177. Ответ записан в файл.\n",
            "Строка №178. Ответ на вопрос получен за - 8.948 сек.\n",
            "Строка №178. Ответ записан в файл.\n",
            "Строка №179. Ответ на вопрос получен за - 8.686 сек.\n",
            "Строка №179. Ответ записан в файл.\n",
            "Строка №180. Ответ на вопрос получен за - 9.802 сек.\n",
            "Строка №180. Ответ записан в файл.\n",
            "Строка №181. Ответ на вопрос получен за - 10.508 сек.\n",
            "Строка №181. Ответ записан в файл.\n",
            "\n",
            "-------------------------------------------\n",
            "Вопросов в пакетной обработке - 177 шт.\n",
            "Время пакетной обработки      - 2354.8 сек.\n",
            "Стоимость пакетной обработки  - 1.3876 $.\n",
            "Токенов в пакетной обработке  - 1325666 шт.\n"
          ]
        }
      ]
    },
    {
      "cell_type": "code",
      "source": [
        "# @title Выбор диапазона вопросов группого запроса. Отправка запроса. { vertical-output: false }\n",
        "\n",
        "# Определение диапазона строк с вопросами. Начало диапазона, конец диапазона (включительно).\n",
        "row_first = 182      # @param {type:'integer'}\n",
        "row_end = 182        # @param {type:'integer'}\n",
        "verbose_answer = 0 # @param {type:'integer'}\n",
        "verbose_chank = 0  # @param {type:'integer'}\n",
        "g.execute(row_first, row_end, verbose_answer, verbose_chank)"
      ],
      "metadata": {
        "colab": {
          "base_uri": "https://localhost:8080/"
        },
        "outputId": "5f96b5d0-4e88-401c-ac23-ce0d5ea9374e",
        "cellView": "form",
        "id": "stJ9svake-X0"
      },
      "execution_count": 17,
      "outputs": [
        {
          "output_type": "stream",
          "name": "stdout",
          "text": [
            "Строка №182. Ответ на вопрос получен за - 12.668 сек.\n",
            "Строка №182. Ответ записан в файл.\n",
            "\n",
            "-------------------------------------------\n",
            "Вопросов в пакетной обработке - 1 шт.\n",
            "Время пакетной обработки      - 16.1 сек.\n",
            "Стоимость пакетной обработки  - 0.0076 $.\n",
            "Токенов в пакетной обработке  - 7278 шт.\n"
          ]
        }
      ]
    },
    {
      "cell_type": "markdown",
      "source": [
        "### Тестирование вопросов от Евгения Лучникова"
      ],
      "metadata": {
        "id": "1GzhrBiZyhiM"
      }
    },
    {
      "cell_type": "code",
      "source": [
        "MODEL_GPT = 'gpt-3.5-turbo-1106' # @param ['gpt-3.5-turbo-1106', 'gpt-4-1106-preview']\n",
        "top_documents = 8                # @param {type:'integer'} # Количество отобранных чанков\n",
        "temperature = 0                  # @param float            # Вариативность ответа\n",
        "limit_score = 0                  # @param float            # Отфильтровывать чанки при поиске выше этого значения, если '0' - не фильтровать\n",
        "question_norma = False           # @param {type:'boolean'} # Нормализовать вопрос - Удаляет лишние пробелы из вопроса\n",
        "max_characters = 4096            # @param {type:'integer'}\n",
        "max_tokens = 2048                # @param {type:'integer'}\n",
        "url_prompt = 'https://raw.githubusercontent.com/terrainternship/GPT_Gavrilov_g/main/tgbot_alex/settings/system_prompt.txt' # @param {type:'string'}\n",
        "chat_prompt = load_file(url_prompt).format(max_tokens = max_tokens, max_characters = max_characters)"
      ],
      "metadata": {
        "id": "eMTERJwyS0Q9"
      },
      "execution_count": 19,
      "outputs": []
    },
    {
      "cell_type": "code",
      "source": [
        "g.chat_prompt = chat_prompt\n",
        "g.top_documents = top_documents\n",
        "g.temperature = temperature\n",
        "g.limit_score = limit_score\n",
        "g.question_norma = question_norma\n",
        "g.index_db = index_db\n",
        "g.gpt_model = MODEL_GPT\n",
        "g.SELECT_MODEL_GPT = MODEL_COST[g.gpt_model]\n",
        "g.select_sheet(3)"
      ],
      "metadata": {
        "colab": {
          "base_uri": "https://localhost:8080/"
        },
        "outputId": "fdd384e7-9c27-4506-a904-188d13c4d659",
        "id": "JU9orMKcyhir"
      },
      "execution_count": 20,
      "outputs": [
        {
          "output_type": "stream",
          "name": "stdout",
          "text": [
            "Текущая страница - \"Лучников\"\n",
            "\n",
            "-----№---------Название---\n",
            "Колонка №1  Вопрос\n",
            "Колонка №2  Ответ GPT\n",
            "Колонка №3  Оценка\n",
            "Колонка №4  Комментарий\n",
            "Колонка №5  Ошибка\n",
            "Колонка №6  Модель GPT\n",
            "Колонка №7  Промпт\n",
            "Колонка №8  Чанк №1\n",
            "Колонка №9  Чанк №2\n",
            "Колонка №10 Чанк №3\n",
            "Колонка №11 Чанк №4\n",
            "Колонка №12 Чанк №5\n",
            "Колонка №13 Чанк №6\n",
            "Колонка №14 Чанк №7\n",
            "Колонка №15 Чанк №8\n"
          ]
        }
      ]
    },
    {
      "cell_type": "code",
      "source": [
        "# @title Промпт\n",
        "g.chat_prompt"
      ],
      "metadata": {
        "colab": {
          "base_uri": "https://localhost:8080/",
          "height": 140
        },
        "outputId": "fc9ac482-735e-498a-fa34-670648bba214",
        "cellView": "form",
        "id": "RFhG4gPQyhir"
      },
      "execution_count": 21,
      "outputs": [
        {
          "output_type": "execute_result",
          "data": {
            "text/plain": [
              "'# Основные инструкции\\nТы консультант по вопросам, связанным с систематизацией бизнеса и деятельностью Германа Гаврилова, основывайся исключительно на информации, представленной в данном документе и текущем диалоге с клиентом. Не добавляй никакой информации из других источников и не используй внешние данные. Строго придерживайся только тех данных, которые содержатся в документе и текущем диалоге. Не упоминай клиенту о наличии документа с информацией и не давай понять, что твои ответы основаны на этом документе. Если информации в предоставленном документе и текущем диалоге недостаточно для ответа на вопрос клиента, сообщи об этом прямо, не пытаясь дополнять ответ внешними данными. Твоя задача - предоставлять точные и конкретные ответы, основанные исключительно на представленных данных. Если запрос клиента выходит за рамки тематики бизнес-систематизации или данных, содержащихся в диалоге и документе, объясни это клиенту, указав на отсутствие необходимой информации для ответа. Следуй инструкциям буквально и не предпринимай попыток интерпретировать или дополнять запросы клиента за рамками заданных критериев. Твоя главная цель - предоставить клиенту информацию, которая строго соответствует его запросам, опираясь на представленный контекст и документацию.\\nБудь доброжелателен вежлив и приветлив в начале диалога и в конце диалога, при начале диалога спрашивай имя пользователя, при завершении диалога прощайся.\\nДля ответа используй не больше 2048 токенов и 4096 символов.\\n# Основная информация\\nГаврилов Герман Александрович — бизнесмен, коуч и основатель сервисов аналитики и автоматизации бизнес-процессов Roistat и Platrum.\\nПредоставляемый документ содержит высказывания Германа Гаврилова.\\n'"
            ],
            "application/vnd.google.colaboratory.intrinsic+json": {
              "type": "string"
            }
          },
          "metadata": {},
          "execution_count": 21
        }
      ]
    },
    {
      "cell_type": "code",
      "source": [
        "# @title Загрузка вопросов\n",
        "g.load_sheet()"
      ],
      "metadata": {
        "colab": {
          "base_uri": "https://localhost:8080/"
        },
        "outputId": "92b8bfe0-c59a-4876-fc44-0252af003b74",
        "cellView": "form",
        "id": "4AglYtUgyhir"
      },
      "execution_count": 22,
      "outputs": [
        {
          "output_type": "stream",
          "name": "stdout",
          "text": [
            "\n",
            "\n",
            "Загрузка списка вопросов завершена. Количество вопросов: 153.\n",
            "Диапазон номеров строк с вопросами (включительно): [2:154].\n"
          ]
        }
      ]
    },
    {
      "cell_type": "code",
      "source": [
        "# @title Выбор диапазона вопросов группого запроса. Отправка запроса. { vertical-output: false }\n",
        "\n",
        "# Определение диапазона строк с вопросами. Начало диапазона, конец диапазона (включительно).\n",
        "row_first = 2      # @param {type:'integer'}\n",
        "row_end = 2        # @param {type:'integer'}\n",
        "verbose_answer = 0 # @param {type:'integer'}\n",
        "verbose_chank = 0  # @param {type:'integer'}\n",
        "g.execute(row_first, row_end, verbose_answer, verbose_chank)"
      ],
      "metadata": {
        "colab": {
          "base_uri": "https://localhost:8080/"
        },
        "outputId": "c97367ed-4f61-458f-e4db-a4cc74583038",
        "cellView": "form",
        "id": "sxrG5Or8yhir"
      },
      "execution_count": null,
      "outputs": [
        {
          "output_type": "stream",
          "name": "stdout",
          "text": [
            "Строка №2. Ответ на вопрос получен за - 6.691 сек.\n",
            "Строка №2. Ответ записан в файл.\n",
            "\n",
            "-------------------------------------------\n",
            "Вопросов в пакетной обработке - 1 шт.\n",
            "Время пакетной обработки      - 8.0 сек.\n",
            "Стоимость пакетной обработки  - 0.0087 $.\n",
            "Токенов в пакетной обработке  - 8348 шт.\n"
          ]
        }
      ]
    },
    {
      "cell_type": "code",
      "source": [
        "# @title Выбор диапазона вопросов группого запроса. Отправка запроса. { vertical-output: false }\n",
        "\n",
        "# Определение диапазона строк с вопросами. Начало диапазона, конец диапазона (включительно).\n",
        "row_first = 3      # @param {type:'integer'}\n",
        "row_end = 3        # @param {type:'integer'}\n",
        "verbose_answer = 0 # @param {type:'integer'}\n",
        "verbose_chank = 0  # @param {type:'integer'}\n",
        "g.execute(row_first, row_end, verbose_answer, verbose_chank)"
      ],
      "metadata": {
        "colab": {
          "base_uri": "https://localhost:8080/"
        },
        "outputId": "78ef9fe5-c41e-4b78-87b1-2042212d8213",
        "cellView": "form",
        "id": "MSuzgT80VBUS"
      },
      "execution_count": null,
      "outputs": [
        {
          "output_type": "stream",
          "name": "stdout",
          "text": [
            "Строка №3. Ответ на вопрос получен за - 18.634 сек.\n",
            "Строка №3. Ответ записан в файл.\n",
            "\n",
            "-------------------------------------------\n",
            "Вопросов в пакетной обработке - 1 шт.\n",
            "Время пакетной обработки      - 20.6 сек.\n",
            "Стоимость пакетной обработки  - 0.0078 $.\n",
            "Токенов в пакетной обработке  - 7049 шт.\n"
          ]
        }
      ]
    },
    {
      "cell_type": "code",
      "source": [
        "# @title Выбор диапазона вопросов группого запроса. Отправка запроса. { vertical-output: false }\n",
        "\n",
        "# Определение диапазона строк с вопросами. Начало диапазона, конец диапазона (включительно).\n",
        "row_first = 4      # @param {type:'integer'}\n",
        "row_end = 154        # @param {type:'integer'}\n",
        "verbose_answer = 0 # @param {type:'integer'}\n",
        "verbose_chank = 0  # @param {type:'integer'}\n",
        "g.execute(row_first, row_end, verbose_answer, verbose_chank)"
      ],
      "metadata": {
        "colab": {
          "base_uri": "https://localhost:8080/"
        },
        "outputId": "78ced4d2-1793-4f92-e76c-3b2f8557d53c",
        "cellView": "form",
        "id": "413owbgKpPJB"
      },
      "execution_count": 23,
      "outputs": [
        {
          "output_type": "stream",
          "name": "stdout",
          "text": [
            "Строка №4. Ответ на вопрос получен за - 24.439 сек.\n",
            "Строка №4. Ответ записан в файл.\n",
            "Строка №5. Ответ на вопрос получен за - 20.312 сек.\n",
            "Строка №5. Ответ записан в файл.\n",
            "Строка №6. Ответ на вопрос получен за - 10.98 сек.\n",
            "Строка №6. Ответ записан в файл.\n",
            "Строка №7. Ответ на вопрос получен за - 13.061 сек.\n",
            "Строка №7. Ответ записан в файл.\n",
            "Строка №8. Ответ на вопрос получен за - 15.052 сек.\n",
            "Строка №8. Ответ записан в файл.\n",
            "Строка №9. Ответ на вопрос получен за - 13.598 сек.\n",
            "Строка №9. Ответ записан в файл.\n",
            "Строка №10. Ответ на вопрос получен за - 11.9 сек.\n",
            "Строка №10. Ответ записан в файл.\n",
            "Строка №11. Ответ на вопрос получен за - 18.245 сек.\n",
            "Строка №11. Ответ записан в файл.\n",
            "Строка №12. Ответ на вопрос получен за - 20.455 сек.\n",
            "Строка №12. Ответ записан в файл.\n",
            "Строка №13. Ответ на вопрос получен за - 19.391 сек.\n",
            "Строка №13. Ответ записан в файл.\n",
            "Строка №14. Ответ на вопрос получен за - 22.339 сек.\n",
            "Строка №14. Ответ записан в файл.\n",
            "Строка №15. Ответ на вопрос получен за - 22.833 сек.\n",
            "Строка №15. Ответ записан в файл.\n",
            "Строка №16. Ответ на вопрос получен за - 19.294 сек.\n",
            "Строка №16. Ответ записан в файл.\n",
            "Строка №17. Ответ на вопрос получен за - 21.23 сек.\n",
            "Строка №17. Ответ записан в файл.\n",
            "Строка №18. Ответ на вопрос получен за - 17.497 сек.\n",
            "Строка №18. Ответ записан в файл.\n",
            "Строка №19. Ответ на вопрос получен за - 14.247 сек.\n",
            "Строка №19. Ответ записан в файл.\n",
            "Строка №20. Ответ на вопрос получен за - 20.635 сек.\n",
            "Строка №20. Ответ записан в файл.\n",
            "Строка №21. Ответ на вопрос получен за - 18.572 сек.\n",
            "Строка №21. Ответ записан в файл.\n",
            "Строка №22. Ответ на вопрос получен за - 19.609 сек.\n",
            "Строка №22. Ответ записан в файл.\n",
            "Строка №23. Ответ на вопрос получен за - 22.649 сек.\n",
            "Строка №23. Ответ записан в файл.\n",
            "Строка №24. Ответ на вопрос получен за - 16.184 сек.\n",
            "Строка №24. Ответ записан в файл.\n",
            "Строка №25. Ответ на вопрос получен за - 21.041 сек.\n",
            "Строка №25. Ответ записан в файл.\n",
            "Строка №26. Ответ на вопрос получен за - 20.005 сек.\n",
            "Строка №26. Ответ записан в файл.\n",
            "Строка №27. Ответ на вопрос получен за - 22.096 сек.\n",
            "Строка №27. Ответ записан в файл.\n",
            "Строка №28. Ответ на вопрос получен за - 20.313 сек.\n",
            "Строка №28. Ответ записан в файл.\n",
            "Строка №29. Ответ на вопрос получен за - 20.271 сек.\n",
            "Строка №29. Ответ записан в файл.\n",
            "Строка №30. Ответ на вопрос получен за - 12.316 сек.\n",
            "Строка №30. Ответ записан в файл.\n",
            "Строка №31. Ответ на вопрос получен за - 17.441 сек.\n",
            "Строка №31. Ответ записан в файл.\n",
            "Строка №32. Ответ на вопрос получен за - 14.428 сек.\n",
            "Строка №32. Ответ записан в файл.\n",
            "Строка №33. Ответ на вопрос получен за - 16.64 сек.\n",
            "Строка №33. Ответ записан в файл.\n",
            "Строка №34. Ответ на вопрос получен за - 13.081 сек.\n",
            "Строка №34. Ответ записан в файл.\n",
            "Строка №35. Ответ на вопрос получен за - 12.55 сек.\n",
            "Строка №35. Ответ записан в файл.\n",
            "Строка №36. Ответ на вопрос получен за - 24.962 сек.\n",
            "Строка №36. Ответ записан в файл.\n",
            "Строка №37. Ответ на вопрос получен за - 8.622 сек.\n",
            "Строка №37. Ответ записан в файл.\n",
            "Строка №38. Ответ на вопрос получен за - 25.799 сек.\n",
            "Строка №38. Ответ записан в файл.\n",
            "Строка №39. Ответ на вопрос получен за - 18.195 сек.\n",
            "Строка №39. Ответ записан в файл.\n",
            "Строка №40. Ответ на вопрос получен за - 20.783 сек.\n",
            "Строка №40. Ответ записан в файл.\n",
            "Строка №41. Ответ на вопрос получен за - 22.906 сек.\n",
            "Строка №41. Ответ записан в файл.\n",
            "Строка №42. Ответ на вопрос получен за - 14.263 сек.\n",
            "Строка №42. Ответ записан в файл.\n",
            "Строка №43. Ответ на вопрос получен за - 13.064 сек.\n",
            "Строка №43. Ответ записан в файл.\n",
            "Строка №44. Ответ на вопрос получен за - 18.679 сек.\n",
            "Строка №44. Ответ записан в файл.\n",
            "Строка №45. Ответ на вопрос получен за - 12.71 сек.\n",
            "Строка №45. Ответ записан в файл.\n",
            "Строка №46. Ответ на вопрос получен за - 19.872 сек.\n",
            "Строка №46. Ответ записан в файл.\n",
            "Строка №47. Ответ на вопрос получен за - 13.445 сек.\n",
            "Строка №47. Ответ записан в файл.\n",
            "Строка №48. Ответ на вопрос получен за - 21.662 сек.\n",
            "Строка №48. Ответ записан в файл.\n",
            "Строка №49. Ответ на вопрос получен за - 23.48 сек.\n",
            "Строка №49. Ответ записан в файл.\n",
            "Строка №50. Ответ на вопрос получен за - 56.102 сек.\n",
            "Строка №50. Ответ записан в файл.\n",
            "Строка №51. Ответ на вопрос получен за - 22.115 сек.\n",
            "Строка №51. Ответ записан в файл.\n",
            "Строка №52. Ответ на вопрос получен за - 8.541 сек.\n",
            "Строка №52. Ответ записан в файл.\n",
            "Строка №53. Ответ на вопрос получен за - 20.111 сек.\n",
            "Строка №53. Ответ записан в файл.\n",
            "Строка №54. Ответ на вопрос получен за - 9.491 сек.\n",
            "Строка №54. Ответ записан в файл.\n",
            "Строка №55. Ответ на вопрос получен за - 18.013 сек.\n",
            "Строка №55. Ответ записан в файл.\n",
            "Строка №56. Ответ на вопрос получен за - 10.531 сек.\n",
            "Строка №56. Ответ записан в файл.\n",
            "Строка №57. Ответ на вопрос получен за - 9.224 сек.\n",
            "Строка №57. Ответ записан в файл.\n",
            "Строка №58. Ответ на вопрос получен за - 17.005 сек.\n",
            "Строка №58. Ответ записан в файл.\n",
            "Строка №59. Ответ на вопрос получен за - 18.008 сек.\n",
            "Строка №59. Ответ записан в файл.\n",
            "Строка №60. Ответ на вопрос получен за - 21.253 сек.\n",
            "Строка №60. Ответ записан в файл.\n",
            "Строка №61. Ответ на вопрос получен за - 13.641 сек.\n",
            "Строка №61. Ответ записан в файл.\n",
            "Строка №62. Ответ на вопрос получен за - 21.706 сек.\n",
            "Строка №62. Ответ записан в файл.\n",
            "Строка №63. Ответ на вопрос получен за - 11.308 сек.\n",
            "Строка №63. Ответ записан в файл.\n",
            "Строка №64. Ответ на вопрос получен за - 11.775 сек.\n",
            "Строка №64. Ответ записан в файл.\n",
            "Строка №65. Ответ на вопрос получен за - 12.297 сек.\n",
            "Строка №65. Ответ записан в файл.\n",
            "Строка №66. Ответ на вопрос получен за - 14.905 сек.\n",
            "Строка №66. Ответ записан в файл.\n",
            "Строка №67. Ответ на вопрос получен за - 17.464 сек.\n",
            "Строка №67. Ответ записан в файл.\n",
            "Строка №68. Ответ на вопрос получен за - 15.993 сек.\n",
            "Строка №68. Ответ записан в файл.\n",
            "Строка №69. Ответ на вопрос получен за - 12.429 сек.\n",
            "Строка №69. Ответ записан в файл.\n",
            "Строка №70. Ответ на вопрос получен за - 25.562 сек.\n",
            "Строка №70. Ответ записан в файл.\n",
            "Строка №71. Ответ на вопрос получен за - 11.947 сек.\n",
            "Строка №71. Ответ записан в файл.\n",
            "Строка №72. Ответ на вопрос получен за - 27.579 сек.\n",
            "Строка №72. Ответ записан в файл.\n",
            "Строка №73. Ответ на вопрос получен за - 8.961 сек.\n",
            "Строка №73. Ответ записан в файл.\n",
            "Строка №74. Ответ на вопрос получен за - 19.724 сек.\n",
            "Строка №74. Ответ записан в файл.\n",
            "Строка №75. Ответ на вопрос получен за - 8.436 сек.\n",
            "Строка №75. Ответ записан в файл.\n",
            "Строка №76. Ответ на вопрос получен за - 22.531 сек.\n",
            "Строка №76. Ответ записан в файл.\n",
            "Строка №77. Ответ на вопрос получен за - 19.126 сек.\n",
            "Строка №77. Ответ записан в файл.\n",
            "Строка №78. Ответ на вопрос получен за - 12.112 сек.\n",
            "Строка №78. Ответ записан в файл.\n",
            "Строка №79. Ответ на вопрос получен за - 16.408 сек.\n",
            "Строка №79. Ответ записан в файл.\n",
            "Строка №80. Ответ на вопрос получен за - 21.16 сек.\n",
            "Строка №80. Ответ записан в файл.\n",
            "Строка №81. Ответ на вопрос получен за - 20.537 сек.\n",
            "Строка №81. Ответ записан в файл.\n",
            "Строка №82. Ответ на вопрос получен за - 17.19 сек.\n",
            "Строка №82. Ответ записан в файл.\n",
            "Строка №83. Ответ на вопрос получен за - 17.284 сек.\n",
            "Строка №83. Ответ записан в файл.\n",
            "Строка №84. Ответ на вопрос получен за - 17.538 сек.\n",
            "Строка №84. Ответ записан в файл.\n",
            "Строка №85. Ответ на вопрос получен за - 20.802 сек.\n",
            "Строка №85. Ответ записан в файл.\n",
            "Строка №86. Ответ на вопрос получен за - 21.713 сек.\n",
            "Строка №86. Ответ записан в файл.\n",
            "Строка №87. Ответ на вопрос получен за - 16.705 сек.\n",
            "Строка №87. Ответ записан в файл.\n",
            "Строка №88. Ответ на вопрос получен за - 16.445 сек.\n",
            "Строка №88. Ответ записан в файл.\n",
            "Строка №89. Ответ на вопрос получен за - 8.426 сек.\n",
            "Строка №89. Ответ записан в файл.\n",
            "Строка №90. Ответ на вопрос получен за - 9.195 сек.\n",
            "Строка №90. Ответ записан в файл.\n",
            "Строка №91. Ответ на вопрос получен за - 12.321 сек.\n",
            "Строка №91. Ответ записан в файл.\n",
            "Строка №92. Ответ на вопрос получен за - 9.924 сек.\n",
            "Строка №92. Ответ записан в файл.\n",
            "Строка №93. Ответ на вопрос получен за - 14.895 сек.\n",
            "Строка №93. Ответ записан в файл.\n",
            "Строка №94. Ответ на вопрос получен за - 12.085 сек.\n",
            "Строка №94. Ответ записан в файл.\n",
            "Строка №95. Ответ на вопрос получен за - 18.665 сек.\n",
            "Строка №95. Ответ записан в файл.\n",
            "Строка №96. Ответ на вопрос получен за - 7.075 сек.\n",
            "Строка №96. Ответ записан в файл.\n",
            "Строка №97. Ответ на вопрос получен за - 16.923 сек.\n",
            "Строка №97. Ответ записан в файл.\n",
            "Строка №98. Ответ на вопрос получен за - 8.968 сек.\n",
            "Строка №98. Ответ записан в файл.\n",
            "Строка №99. Ответ на вопрос получен за - 18.219 сек.\n",
            "Строка №99. Ответ записан в файл.\n",
            "Строка №100. Ответ на вопрос получен за - 19.067 сек.\n",
            "Строка №100. Ответ записан в файл.\n",
            "Строка №101. Ответ на вопрос получен за - 13.408 сек.\n",
            "Строка №101. Ответ записан в файл.\n",
            "Строка №102. Ответ на вопрос получен за - 14.773 сек.\n",
            "Строка №102. Ответ записан в файл.\n",
            "Строка №103. Ответ на вопрос получен за - 18.818 сек.\n",
            "Строка №103. Ответ записан в файл.\n",
            "Строка №104. Ответ на вопрос получен за - 10.438 сек.\n",
            "Строка №104. Ответ записан в файл.\n",
            "Строка №105. Ответ на вопрос получен за - 15.828 сек.\n",
            "Строка №105. Ответ записан в файл.\n",
            "Строка №106. Ответ на вопрос получен за - 7.182 сек.\n",
            "Строка №106. Ответ записан в файл.\n",
            "Строка №107. Ответ на вопрос получен за - 18.592 сек.\n",
            "Строка №107. Ответ записан в файл.\n",
            "Строка №108. Ответ на вопрос получен за - 19.25 сек.\n",
            "Строка №108. Ответ записан в файл.\n",
            "Строка №109. Ответ на вопрос получен за - 15.423 сек.\n",
            "Строка №109. Ответ записан в файл.\n",
            "Строка №110. Ответ на вопрос получен за - 10.092 сек.\n",
            "Строка №110. Ответ записан в файл.\n",
            "Строка №111. Ответ на вопрос получен за - 16.27 сек.\n",
            "Строка №111. Ответ записан в файл.\n",
            "Строка №112. Ответ на вопрос получен за - 20.644 сек.\n",
            "Строка №112. Ответ записан в файл.\n",
            "Строка №113. Ответ на вопрос получен за - 12.011 сек.\n",
            "Строка №113. Ответ записан в файл.\n",
            "Строка №114. Ответ на вопрос получен за - 136.498 сек.\n",
            "Строка №114. Ответ записан в файл.\n",
            "Строка №115. Ответ на вопрос получен за - 23.121 сек.\n",
            "Строка №115. Ответ записан в файл.\n",
            "Строка №116. Ответ на вопрос получен за - 13.232 сек.\n",
            "Строка №116. Ответ записан в файл.\n",
            "Строка №117. Ответ на вопрос получен за - 17.204 сек.\n",
            "Строка №117. Ответ записан в файл.\n",
            "Строка №118. Ответ на вопрос получен за - 20.084 сек.\n",
            "Строка №118. Ответ записан в файл.\n",
            "Строка №119. Ответ на вопрос получен за - 16.376 сек.\n",
            "Строка №119. Ответ записан в файл.\n",
            "Строка №120. Ответ на вопрос получен за - 8.009 сек.\n",
            "Строка №120. Ответ записан в файл.\n",
            "Строка №121. Ответ на вопрос получен за - 7.551 сек.\n",
            "Строка №121. Ответ записан в файл.\n",
            "Строка №122. Ответ на вопрос получен за - 17.747 сек.\n",
            "Строка №122. Ответ записан в файл.\n",
            "Строка №123. Ответ на вопрос получен за - 16.141 сек.\n",
            "Строка №123. Ответ записан в файл.\n",
            "Строка №124. Ответ на вопрос получен за - 13.3 сек.\n",
            "Строка №124. Ответ записан в файл.\n",
            "Строка №125. Ответ на вопрос получен за - 22.406 сек.\n",
            "Строка №125. Ответ записан в файл.\n",
            "Строка №126. Ответ на вопрос получен за - 15.666 сек.\n",
            "Строка №126. Ответ записан в файл.\n",
            "Строка №127. Ответ на вопрос получен за - 7.896 сек.\n",
            "Строка №127. Ответ записан в файл.\n",
            "Строка №128. Ответ на вопрос получен за - 12.01 сек.\n",
            "Строка №128. Ответ записан в файл.\n",
            "Строка №129. Ответ на вопрос получен за - 9.83 сек.\n",
            "Строка №129. Ответ записан в файл.\n",
            "Строка №130. Ответ на вопрос получен за - 10.852 сек.\n",
            "Строка №130. Ответ записан в файл.\n",
            "Строка №131. Ответ на вопрос получен за - 21.569 сек.\n",
            "Строка №131. Ответ записан в файл.\n",
            "Строка №132. Ответ на вопрос получен за - 11.011 сек.\n",
            "Строка №132. Ответ записан в файл.\n",
            "Строка №133. Ответ на вопрос получен за - 13.69 сек.\n",
            "Строка №133. Ответ записан в файл.\n",
            "Строка №134. Ответ на вопрос получен за - 22.286 сек.\n",
            "Строка №134. Ответ записан в файл.\n",
            "Строка №135. Ответ на вопрос получен за - 16.262 сек.\n",
            "Строка №135. Ответ записан в файл.\n",
            "Строка №136. Ответ на вопрос получен за - 12.57 сек.\n",
            "Строка №136. Ответ записан в файл.\n",
            "Строка №137. Ответ на вопрос получен за - 17.156 сек.\n",
            "Строка №137. Ответ записан в файл.\n",
            "Строка №138. Ответ на вопрос получен за - 10.091 сек.\n",
            "Строка №138. Ответ записан в файл.\n",
            "Строка №139. Ответ на вопрос получен за - 9.825 сек.\n",
            "Строка №139. Ответ записан в файл.\n",
            "Строка №140. Ответ на вопрос получен за - 11.405 сек.\n",
            "Строка №140. Ответ записан в файл.\n",
            "Строка №141. Ответ на вопрос получен за - 10.683 сек.\n",
            "Строка №141. Ответ записан в файл.\n",
            "Строка №142. Ответ на вопрос получен за - 22.22 сек.\n",
            "Строка №142. Ответ записан в файл.\n",
            "Строка №143. Ответ на вопрос получен за - 7.705 сек.\n",
            "Строка №143. Ответ записан в файл.\n",
            "Строка №144. Ответ на вопрос получен за - 13.079 сек.\n",
            "Строка №144. Ответ записан в файл.\n",
            "Строка №145. Ответ на вопрос получен за - 22.322 сек.\n",
            "Строка №145. Ответ записан в файл.\n",
            "Строка №146. Ответ на вопрос получен за - 12.939 сек.\n",
            "Строка №146. Ответ записан в файл.\n",
            "Строка №147. Ответ на вопрос получен за - 11.164 сек.\n",
            "Строка №147. Ответ записан в файл.\n",
            "Строка №148. Ответ на вопрос получен за - 14.711 сек.\n",
            "Строка №148. Ответ записан в файл.\n",
            "Строка №149. Ответ на вопрос получен за - 7.918 сек.\n",
            "Строка №149. Ответ записан в файл.\n",
            "Строка №150. Ответ на вопрос получен за - 17.469 сек.\n",
            "Строка №150. Ответ записан в файл.\n",
            "Строка №151. Ответ на вопрос получен за - 16.151 сек.\n",
            "Строка №151. Ответ записан в файл.\n",
            "Строка №152. Ответ на вопрос получен за - 10.973 сек.\n",
            "Строка №152. Ответ записан в файл.\n",
            "Строка №153. Ответ на вопрос получен за - 12.116 сек.\n",
            "Строка №153. Ответ записан в файл.\n",
            "Строка №154. Ответ на вопрос получен за - 9.61 сек.\n",
            "Строка №154. Ответ записан в файл.\n",
            "\n",
            "-------------------------------------------\n",
            "Вопросов в пакетной обработке - 151 шт.\n",
            "Время пакетной обработки      - 2943.0 сек.\n",
            "Стоимость пакетной обработки  - 1.2369 $.\n",
            "Токенов в пакетной обработке  - 1154991 шт.\n"
          ]
        }
      ]
    }
  ],
  "metadata": {
    "colab": {
      "provenance": [],
      "collapsed_sections": [
        "Iki324RBw_iU",
        "C-vZQuEF4R93",
        "lOmw-U6FweNp",
        "qnemPNyQZhfE",
        "12NdiiqSZxkL",
        "C-qMmIg3ups4",
        "6hJrrs6v6De2",
        "Sn5N4dk08DU4",
        "SDUwwefsO-Wm",
        "5M2zkLdiPDvr",
        "BXSEIoDhVCRA",
        "LUlS-doqXAUn",
        "kF1AN6JCZedn",
        "__QOUYP3SaJx",
        "BXqoTnOrPLvK",
        "RZAm8LwaPyDP",
        "1GzhrBiZyhiM"
      ]
    },
    "kernelspec": {
      "display_name": "Python 3",
      "name": "python3"
    },
    "language_info": {
      "name": "python"
    }
  },
  "nbformat": 4,
  "nbformat_minor": 0
}